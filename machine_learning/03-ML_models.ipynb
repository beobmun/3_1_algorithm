{
 "cells": [
  {
   "cell_type": "markdown",
   "id": "c4c72c9e",
   "metadata": {},
   "source": [
    "# Scikit-learn"
   ]
  },
  {
   "cell_type": "code",
   "execution_count": 2,
   "id": "7e0b22aa",
   "metadata": {},
   "outputs": [],
   "source": [
    "import matplotlib.pyplot as plt\n",
    "from sklearn import datasets\n",
    "from sklearn.model_selection import train_test_split # to split the data into two parts\n"
   ]
  },
  {
   "cell_type": "code",
   "execution_count": 19,
   "id": "60fc94da",
   "metadata": {},
   "outputs": [
    {
     "name": "stdout",
     "output_type": "stream",
     "text": [
      "x:  (569, 30) y:  (569,)\n"
     ]
    }
   ],
   "source": [
    "# iris = datasets.load_iris()\n",
    "data = datasets.load_breast_cancer()\n",
    "x = data.data\n",
    "y = data.target\n",
    "print(\"x: \", x.shape, \"y: \", y.shape)\n",
    "x_train, x_test, y_train, y_test = train_test_split(x, y, test_size=0.25, random_state=202155642)"
   ]
  },
  {
   "cell_type": "code",
   "execution_count": 10,
   "id": "a22108a4",
   "metadata": {},
   "outputs": [],
   "source": [
    "def check_perf(clf):\n",
    "    print('Train:%.4f'% clf.score(x_train, y_train))\n",
    "    print('Test: %.4f'% clf.score(x_test, y_test))"
   ]
  },
  {
   "cell_type": "markdown",
   "id": "3566fb67",
   "metadata": {},
   "source": [
    "### Training with LogisticRegression\n",
    "\n",
    "https://scikit-learn.org/stable/modules/generated/sklearn.linear_model.LogisticRegression.html#sklearn.linear_model.LogisticRegression"
   ]
  },
  {
   "cell_type": "raw",
   "id": "eacaeca0",
   "metadata": {},
   "source": [
    "LogisticRegression\n",
    "Train:0.9624\n",
    "Test: 0.9650"
   ]
  },
  {
   "cell_type": "code",
   "execution_count": 15,
   "id": "19e08a02",
   "metadata": {},
   "outputs": [
    {
     "name": "stdout",
     "output_type": "stream",
     "text": [
      "Train:0.9718\n",
      "Test: 0.9091\n"
     ]
    }
   ],
   "source": [
    "from sklearn.linear_model import LogisticRegression\n",
    "\n",
    "clf = LogisticRegression(max_iter=10**5, random_state=202155642)\n",
    "clf.fit(x_train, y_train)\n",
    "check_perf(clf)"
   ]
  },
  {
   "cell_type": "markdown",
   "id": "394a54a3",
   "metadata": {},
   "source": [
    "### exercise 1: try other ML models\n",
    "\n",
    "https://scikit-learn.org/stable/supervised_learning.html#supervised-learning\n",
    "- at least 3 ML models\n",
    "- change the random_state to your student_id\n",
    "\n",
    "#### ML models\n",
    "- SVC\n",
    "- DecisionTreeClassifier\n",
    "- RandomForestClassifier\n",
    "- MLPClassifier\n",
    "- GaussianProcessClassifier\n",
    "- KNeighborsClassifier\n",
    "- AdaBoostClassifier\n",
    "- GaussianNB\n",
    "..."
   ]
  },
  {
   "cell_type": "code",
   "execution_count": 5,
   "id": "e3d99b7a",
   "metadata": {},
   "outputs": [],
   "source": [
    "#---------- write your code below ----------\n"
   ]
  },
  {
   "cell_type": "code",
   "execution_count": 17,
   "id": "68d8240c",
   "metadata": {},
   "outputs": [
    {
     "name": "stdout",
     "output_type": "stream",
     "text": [
      "Train:0.9343\n",
      "Test: 0.8881\n"
     ]
    }
   ],
   "source": [
    "#SVC\n",
    "from sklearn import svm\n",
    "clf_svc = svm.SVC(max_iter=10**5, random_state=202155642)\n",
    "clf_svc.fit(x, y)\n",
    "check_perf(clf_svc)"
   ]
  },
  {
   "cell_type": "code",
   "execution_count": null,
   "id": "88f225a5",
   "metadata": {},
   "outputs": [],
   "source": [
    "#DecisionTreeClassifier\n"
   ]
  },
  {
   "cell_type": "code",
   "execution_count": null,
   "id": "6be8cd99",
   "metadata": {},
   "outputs": [],
   "source": []
  },
  {
   "cell_type": "code",
   "execution_count": null,
   "id": "c4820e30",
   "metadata": {},
   "outputs": [],
   "source": []
  }
 ],
 "metadata": {
  "kernelspec": {
   "display_name": "Python 3 (ipykernel)",
   "language": "python",
   "name": "python3"
  },
  "language_info": {
   "codemirror_mode": {
    "name": "ipython",
    "version": 3
   },
   "file_extension": ".py",
   "mimetype": "text/x-python",
   "name": "python",
   "nbconvert_exporter": "python",
   "pygments_lexer": "ipython3",
   "version": "3.10.9"
  }
 },
 "nbformat": 4,
 "nbformat_minor": 5
}
