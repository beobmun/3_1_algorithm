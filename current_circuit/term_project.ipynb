{
 "cells": [
  {
   "attachments": {},
   "cell_type": "markdown",
   "metadata": {},
   "source": [
    "### 눈깜빡임 감지"
   ]
  },
  {
   "cell_type": "code",
   "execution_count": 2,
   "metadata": {},
   "outputs": [
    {
     "name": "stderr",
     "output_type": "stream",
     "text": [
      "2023-05-28 19:09:02.559147: I tensorflow/core/platform/cpu_feature_guard.cc:182] This TensorFlow binary is optimized to use available CPU instructions in performance-critical operations.\n",
      "To enable the following instructions: SSE4.1 SSE4.2, in other operations, rebuild TensorFlow with the appropriate compiler flags.\n"
     ]
    },
    {
     "name": "stdout",
     "output_type": "stream",
     "text": [
      "(2586, 26, 34, 1) (2586, 1)\n",
      "(288, 26, 34, 1) (288, 1)\n"
     ]
    }
   ],
   "source": [
    "import datetime\n",
    "import numpy as np\n",
    "import matplotlib.pyplot as plt\n",
    "from keras.layers import Input, Activation, Conv2D, Flatten, Dense, MaxPooling2D\n",
    "from keras.models import Model, load_model\n",
    "from keras.preprocessing.image import ImageDataGenerator\n",
    "from keras.callbacks import ModelCheckpoint, ReduceLROnPlateau\n",
    "plt.style.use('dark_background')\n",
    "\n",
    "\n",
    "x_train = np.load('dataset/x_train.npy').astype(np.float32)\n",
    "y_train = np.load('dataset/y_train.npy').astype(np.float32)\n",
    "x_val = np.load('dataset/x_val.npy').astype(np.float32)\n",
    "y_val = np.load('dataset/y_val.npy').astype(np.float32)\n",
    "\n",
    "print(x_train.shape, y_train.shape)\n",
    "print(x_val.shape, y_val.shape)\n"
   ]
  },
  {
   "cell_type": "code",
   "execution_count": 3,
   "metadata": {},
   "outputs": [],
   "source": [
    "train_datagen = ImageDataGenerator(\n",
    "\trescale=1./255,\n",
    " rotation_range=10,\n",
    " width_shift_range=0.2,\n",
    " height_shift_range=0.2,\n",
    " shear_range=0.2\n",
    ")\n",
    "\n",
    "val_datagen = ImageDataGenerator(rescale=1./255)\n",
    "\n",
    "train_generator = train_datagen.flow(x=x_train, y=y_train, batch_size=32, shuffle=True)\n",
    "val_generator = val_datagen.flow(x=x_val, y=y_val, batch_size=32, shuffle=False)"
   ]
  },
  {
   "cell_type": "code",
   "execution_count": 4,
   "metadata": {},
   "outputs": [
    {
     "name": "stdout",
     "output_type": "stream",
     "text": [
      "Metal device set to: Apple M1\n",
      "\n",
      "systemMemory: 16.00 GB\n",
      "maxCacheSize: 5.33 GB\n",
      "\n",
      "Model: \"model\"\n",
      "_________________________________________________________________\n",
      " Layer (type)                Output Shape              Param #   \n",
      "=================================================================\n",
      " input_1 (InputLayer)        [(None, 26, 34, 1)]       0         \n",
      "                                                                 \n",
      " conv2d (Conv2D)             (None, 26, 34, 32)        320       \n",
      "                                                                 \n",
      " max_pooling2d (MaxPooling2D  (None, 13, 17, 32)       0         \n",
      " )                                                               \n",
      "                                                                 \n",
      " conv2d_1 (Conv2D)           (None, 13, 17, 64)        18496     \n",
      "                                                                 \n",
      " max_pooling2d_1 (MaxPooling  (None, 6, 8, 64)         0         \n",
      " 2D)                                                             \n",
      "                                                                 \n",
      " conv2d_2 (Conv2D)           (None, 6, 8, 128)         73856     \n",
      "                                                                 \n",
      " max_pooling2d_2 (MaxPooling  (None, 3, 4, 128)        0         \n",
      " 2D)                                                             \n",
      "                                                                 \n",
      " flatten (Flatten)           (None, 1536)              0         \n",
      "                                                                 \n",
      " dense (Dense)               (None, 512)               786944    \n",
      "                                                                 \n",
      " activation (Activation)     (None, 512)               0         \n",
      "                                                                 \n",
      " dense_1 (Dense)             (None, 1)                 513       \n",
      "                                                                 \n",
      " activation_1 (Activation)   (None, 1)                 0         \n",
      "                                                                 \n",
      "=================================================================\n",
      "Total params: 880,129\n",
      "Trainable params: 880,129\n",
      "Non-trainable params: 0\n",
      "_________________________________________________________________\n"
     ]
    },
    {
     "name": "stderr",
     "output_type": "stream",
     "text": [
      "2023-05-28 19:09:09.039045: I tensorflow/core/common_runtime/pluggable_device/pluggable_device_factory.cc:306] Could not identify NUMA node of platform GPU ID 0, defaulting to 0. Your kernel may not have been built with NUMA support.\n",
      "2023-05-28 19:09:09.039098: I tensorflow/core/common_runtime/pluggable_device/pluggable_device_factory.cc:272] Created TensorFlow device (/job:localhost/replica:0/task:0/device:GPU:0 with 0 MB memory) -> physical PluggableDevice (device: 0, name: METAL, pci bus id: <undefined>)\n"
     ]
    }
   ],
   "source": [
    "inputs = Input(shape=(26, 34, 1))\n",
    "\n",
    "net = Conv2D(32, kernel_size=3, strides=1, padding='same', activation='relu')(inputs)\n",
    "net = MaxPooling2D(pool_size=2)(net)\n",
    "\n",
    "net = Conv2D(64, kernel_size=3, strides=1, padding='same', activation='relu')(net)\n",
    "net = MaxPooling2D(pool_size=2)(net)\n",
    "\n",
    "net = Conv2D(128, kernel_size=3, strides=1, padding='same', activation='relu')(net)\n",
    "net = MaxPooling2D(pool_size=2)(net)\n",
    "\n",
    "net = Flatten()(net)\n",
    "\n",
    "net = Dense(512)(net)\n",
    "net = Activation('relu')(net)\n",
    "net = Dense(1)(net)\n",
    "outputs = Activation('sigmoid')(net)\n",
    "\n",
    "model = Model(inputs=inputs, outputs=outputs)\n",
    "\n",
    "model.compile(optimizer='adam', loss='binary_crossentropy', metrics=['acc'])\n",
    "\n",
    "model.summary()"
   ]
  },
  {
   "cell_type": "code",
   "execution_count": 5,
   "metadata": {},
   "outputs": [
    {
     "name": "stdout",
     "output_type": "stream",
     "text": [
      "Epoch 1/50\n"
     ]
    },
    {
     "name": "stderr",
     "output_type": "stream",
     "text": [
      "/var/folders/q5/qkpj78lx0cq03d5wc8y0v97r0000gn/T/ipykernel_4955/369367441.py:3: UserWarning: `Model.fit_generator` is deprecated and will be removed in a future version. Please use `Model.fit`, which supports generators.\n",
      "  model.fit_generator(\n",
      "2023-05-28 19:09:10.333119: I tensorflow/core/common_runtime/executor.cc:1197] [/device:CPU:0] (DEBUG INFO) Executor start aborting (this does not indicate an error and you can ignore this message): INVALID_ARGUMENT: You must feed a value for placeholder tensor 'Placeholder/_0' with dtype int32\n",
      "\t [[{{node Placeholder/_0}}]]\n",
      "2023-05-28 19:09:10.816114: I tensorflow/core/grappler/optimizers/custom_graph_optimizer_registry.cc:114] Plugin optimizer for device_type GPU is enabled.\n",
      "2023-05-28 19:09:10.898368: E tensorflow/core/grappler/optimizers/meta_optimizer.cc:954] model_pruner failed: INVALID_ARGUMENT: Graph does not contain terminal node AssignAddVariableOp_10.\n"
     ]
    },
    {
     "name": "stdout",
     "output_type": "stream",
     "text": [
      "80/81 [============================>.] - ETA: 0s - loss: 0.4488 - acc: 0.7800"
     ]
    },
    {
     "name": "stderr",
     "output_type": "stream",
     "text": [
      "2023-05-28 19:09:12.617781: I tensorflow/core/common_runtime/executor.cc:1197] [/device:CPU:0] (DEBUG INFO) Executor start aborting (this does not indicate an error and you can ignore this message): INVALID_ARGUMENT: You must feed a value for placeholder tensor 'Placeholder/_0' with dtype int32\n",
      "\t [[{{node Placeholder/_0}}]]\n",
      "2023-05-28 19:09:12.693114: I tensorflow/core/grappler/optimizers/custom_graph_optimizer_registry.cc:114] Plugin optimizer for device_type GPU is enabled.\n"
     ]
    },
    {
     "name": "stdout",
     "output_type": "stream",
     "text": [
      "\n",
      "Epoch 1: val_acc improved from -inf to 0.90625, saving model to models/2023_05_28_19_09_10.h5\n",
      "81/81 [==============================] - 3s 20ms/step - loss: 0.4476 - acc: 0.7804 - val_loss: 0.2471 - val_acc: 0.9062 - lr: 0.0010\n",
      "Epoch 2/50\n",
      "80/81 [============================>.] - ETA: 0s - loss: 0.2399 - acc: 0.9119\n",
      "Epoch 2: val_acc improved from 0.90625 to 0.95833, saving model to models/2023_05_28_19_09_10.h5\n",
      "81/81 [==============================] - 1s 16ms/step - loss: 0.2387 - acc: 0.9126 - val_loss: 0.1203 - val_acc: 0.9583 - lr: 0.0010\n",
      "Epoch 3/50\n",
      "80/81 [============================>.] - ETA: 0s - loss: 0.1759 - acc: 0.9370\n",
      "Epoch 3: val_acc did not improve from 0.95833\n",
      "81/81 [==============================] - 1s 16ms/step - loss: 0.1747 - acc: 0.9374 - val_loss: 0.0709 - val_acc: 0.9583 - lr: 0.0010\n",
      "Epoch 4/50\n",
      "80/81 [============================>.] - ETA: 0s - loss: 0.1541 - acc: 0.9561\n",
      "Epoch 4: val_acc did not improve from 0.95833\n",
      "81/81 [==============================] - 1s 16ms/step - loss: 0.1529 - acc: 0.9567 - val_loss: 0.1286 - val_acc: 0.9479 - lr: 0.0010\n",
      "Epoch 5/50\n",
      "80/81 [============================>.] - ETA: 0s - loss: 0.1253 - acc: 0.9597\n",
      "Epoch 5: val_acc improved from 0.95833 to 0.96181, saving model to models/2023_05_28_19_09_10.h5\n",
      "81/81 [==============================] - 1s 16ms/step - loss: 0.1246 - acc: 0.9598 - val_loss: 0.0994 - val_acc: 0.9618 - lr: 0.0010\n",
      "Epoch 6/50\n",
      "81/81 [==============================] - ETA: 0s - loss: 0.1259 - acc: 0.9617\n",
      "Epoch 6: val_acc improved from 0.96181 to 0.98611, saving model to models/2023_05_28_19_09_10.h5\n",
      "81/81 [==============================] - 1s 16ms/step - loss: 0.1259 - acc: 0.9617 - val_loss: 0.0387 - val_acc: 0.9861 - lr: 0.0010\n",
      "Epoch 7/50\n",
      "80/81 [============================>.] - ETA: 0s - loss: 0.0881 - acc: 0.9714\n",
      "Epoch 7: val_acc did not improve from 0.98611\n",
      "81/81 [==============================] - 1s 17ms/step - loss: 0.0880 - acc: 0.9714 - val_loss: 0.0564 - val_acc: 0.9826 - lr: 0.0010\n",
      "Epoch 8/50\n",
      "81/81 [==============================] - ETA: 0s - loss: 0.0991 - acc: 0.9691\n",
      "Epoch 8: val_acc did not improve from 0.98611\n",
      "81/81 [==============================] - 1s 16ms/step - loss: 0.0991 - acc: 0.9691 - val_loss: 0.0451 - val_acc: 0.9861 - lr: 0.0010\n",
      "Epoch 9/50\n",
      "81/81 [==============================] - ETA: 0s - loss: 0.0765 - acc: 0.9733\n",
      "Epoch 9: val_acc did not improve from 0.98611\n",
      "81/81 [==============================] - 1s 16ms/step - loss: 0.0765 - acc: 0.9733 - val_loss: 0.0516 - val_acc: 0.9826 - lr: 0.0010\n",
      "Epoch 10/50\n",
      "80/81 [============================>.] - ETA: 0s - loss: 0.0562 - acc: 0.9820\n",
      "Epoch 10: val_acc did not improve from 0.98611\n",
      "81/81 [==============================] - 1s 16ms/step - loss: 0.0557 - acc: 0.9822 - val_loss: 0.0344 - val_acc: 0.9826 - lr: 0.0010\n",
      "Epoch 11/50\n",
      "80/81 [============================>.] - ETA: 0s - loss: 0.0623 - acc: 0.9808\n",
      "Epoch 11: val_acc did not improve from 0.98611\n",
      "81/81 [==============================] - 1s 16ms/step - loss: 0.0617 - acc: 0.9811 - val_loss: 0.0702 - val_acc: 0.9826 - lr: 0.0010\n",
      "Epoch 12/50\n",
      "80/81 [============================>.] - ETA: 0s - loss: 0.0619 - acc: 0.9796\n",
      "Epoch 12: val_acc did not improve from 0.98611\n",
      "81/81 [==============================] - 1s 16ms/step - loss: 0.0620 - acc: 0.9795 - val_loss: 0.0313 - val_acc: 0.9826 - lr: 0.0010\n",
      "Epoch 13/50\n",
      "81/81 [==============================] - ETA: 0s - loss: 0.0561 - acc: 0.9830\n",
      "Epoch 13: val_acc improved from 0.98611 to 0.99653, saving model to models/2023_05_28_19_09_10.h5\n",
      "81/81 [==============================] - 1s 16ms/step - loss: 0.0561 - acc: 0.9830 - val_loss: 0.0144 - val_acc: 0.9965 - lr: 0.0010\n",
      "Epoch 14/50\n",
      "80/81 [============================>.] - ETA: 0s - loss: 0.0543 - acc: 0.9836\n",
      "Epoch 14: val_acc did not improve from 0.99653\n",
      "81/81 [==============================] - 1s 16ms/step - loss: 0.0537 - acc: 0.9838 - val_loss: 0.0264 - val_acc: 0.9896 - lr: 0.0010\n",
      "Epoch 15/50\n",
      "81/81 [==============================] - ETA: 0s - loss: 0.0559 - acc: 0.9783\n",
      "Epoch 15: val_acc did not improve from 0.99653\n",
      "81/81 [==============================] - 1s 16ms/step - loss: 0.0559 - acc: 0.9783 - val_loss: 0.0332 - val_acc: 0.9896 - lr: 0.0010\n",
      "Epoch 16/50\n",
      "81/81 [==============================] - ETA: 0s - loss: 0.0381 - acc: 0.9880\n",
      "Epoch 16: val_acc did not improve from 0.99653\n",
      "81/81 [==============================] - 1s 16ms/step - loss: 0.0381 - acc: 0.9880 - val_loss: 0.0335 - val_acc: 0.9896 - lr: 0.0010\n",
      "Epoch 17/50\n",
      "80/81 [============================>.] - ETA: 0s - loss: 0.0427 - acc: 0.9890\n",
      "Epoch 17: val_acc did not improve from 0.99653\n",
      "81/81 [==============================] - 1s 16ms/step - loss: 0.0424 - acc: 0.9892 - val_loss: 0.0510 - val_acc: 0.9896 - lr: 0.0010\n",
      "Epoch 18/50\n",
      "81/81 [==============================] - ETA: 0s - loss: 0.0335 - acc: 0.9896\n",
      "Epoch 18: val_acc did not improve from 0.99653\n",
      "81/81 [==============================] - 1s 16ms/step - loss: 0.0335 - acc: 0.9896 - val_loss: 0.0463 - val_acc: 0.9931 - lr: 0.0010\n",
      "Epoch 19/50\n",
      "80/81 [============================>.] - ETA: 0s - loss: 0.0475 - acc: 0.9839\n",
      "Epoch 19: val_acc did not improve from 0.99653\n",
      "81/81 [==============================] - 1s 16ms/step - loss: 0.0476 - acc: 0.9838 - val_loss: 0.0142 - val_acc: 0.9965 - lr: 0.0010\n",
      "Epoch 20/50\n",
      "80/81 [============================>.] - ETA: 0s - loss: 0.0299 - acc: 0.9894\n",
      "Epoch 20: val_acc did not improve from 0.99653\n",
      "81/81 [==============================] - 1s 16ms/step - loss: 0.0297 - acc: 0.9896 - val_loss: 0.0279 - val_acc: 0.9965 - lr: 0.0010\n",
      "Epoch 21/50\n",
      "79/81 [============================>.] - ETA: 0s - loss: 0.0273 - acc: 0.9889\n",
      "Epoch 21: val_acc did not improve from 0.99653\n",
      "81/81 [==============================] - 1s 16ms/step - loss: 0.0268 - acc: 0.9892 - val_loss: 0.0157 - val_acc: 0.9965 - lr: 0.0010\n",
      "Epoch 22/50\n",
      "80/81 [============================>.] - ETA: 0s - loss: 0.0234 - acc: 0.9937\n",
      "Epoch 22: val_acc did not improve from 0.99653\n",
      "81/81 [==============================] - 1s 16ms/step - loss: 0.0232 - acc: 0.9938 - val_loss: 0.0326 - val_acc: 0.9965 - lr: 0.0010\n",
      "Epoch 23/50\n",
      "81/81 [==============================] - ETA: 0s - loss: 0.0342 - acc: 0.9888\n",
      "Epoch 23: val_acc did not improve from 0.99653\n",
      "\n",
      "Epoch 23: ReduceLROnPlateau reducing learning rate to 0.00020000000949949026.\n",
      "81/81 [==============================] - 1s 16ms/step - loss: 0.0342 - acc: 0.9888 - val_loss: 0.0102 - val_acc: 0.9931 - lr: 0.0010\n",
      "Epoch 24/50\n",
      "81/81 [==============================] - ETA: 0s - loss: 0.0245 - acc: 0.9919\n",
      "Epoch 24: val_acc did not improve from 0.99653\n",
      "81/81 [==============================] - 1s 16ms/step - loss: 0.0245 - acc: 0.9919 - val_loss: 0.0182 - val_acc: 0.9965 - lr: 2.0000e-04\n",
      "Epoch 25/50\n",
      "81/81 [==============================] - ETA: 0s - loss: 0.0196 - acc: 0.9938\n",
      "Epoch 25: val_acc did not improve from 0.99653\n",
      "81/81 [==============================] - 1s 16ms/step - loss: 0.0196 - acc: 0.9938 - val_loss: 0.0155 - val_acc: 0.9965 - lr: 2.0000e-04\n",
      "Epoch 26/50\n",
      "79/81 [============================>.] - ETA: 0s - loss: 0.0154 - acc: 0.9933\n",
      "Epoch 26: val_acc did not improve from 0.99653\n",
      "81/81 [==============================] - 1s 16ms/step - loss: 0.0158 - acc: 0.9930 - val_loss: 0.0269 - val_acc: 0.9931 - lr: 2.0000e-04\n",
      "Epoch 27/50\n",
      "80/81 [============================>.] - ETA: 0s - loss: 0.0167 - acc: 0.9953\n",
      "Epoch 27: val_acc did not improve from 0.99653\n",
      "81/81 [==============================] - 1s 16ms/step - loss: 0.0205 - acc: 0.9950 - val_loss: 0.0236 - val_acc: 0.9965 - lr: 2.0000e-04\n",
      "Epoch 28/50\n",
      "80/81 [============================>.] - ETA: 0s - loss: 0.0268 - acc: 0.9922\n",
      "Epoch 28: val_acc did not improve from 0.99653\n",
      "81/81 [==============================] - 1s 16ms/step - loss: 0.0265 - acc: 0.9923 - val_loss: 0.0262 - val_acc: 0.9965 - lr: 2.0000e-04\n",
      "Epoch 29/50\n",
      "80/81 [============================>.] - ETA: 0s - loss: 0.0151 - acc: 0.9973\n",
      "Epoch 29: val_acc did not improve from 0.99653\n",
      "81/81 [==============================] - 1s 16ms/step - loss: 0.0149 - acc: 0.9973 - val_loss: 0.0196 - val_acc: 0.9965 - lr: 2.0000e-04\n",
      "Epoch 30/50\n",
      "81/81 [==============================] - ETA: 0s - loss: 0.0156 - acc: 0.9957\n",
      "Epoch 30: val_acc did not improve from 0.99653\n",
      "81/81 [==============================] - 1s 16ms/step - loss: 0.0156 - acc: 0.9957 - val_loss: 0.0148 - val_acc: 0.9965 - lr: 2.0000e-04\n",
      "Epoch 31/50\n",
      "80/81 [============================>.] - ETA: 0s - loss: 0.0139 - acc: 0.9957\n",
      "Epoch 31: val_acc did not improve from 0.99653\n",
      "81/81 [==============================] - 1s 16ms/step - loss: 0.0137 - acc: 0.9957 - val_loss: 0.0264 - val_acc: 0.9931 - lr: 2.0000e-04\n",
      "Epoch 32/50\n",
      "81/81 [==============================] - ETA: 0s - loss: 0.0131 - acc: 0.9957\n",
      "Epoch 32: val_acc did not improve from 0.99653\n",
      "81/81 [==============================] - 1s 16ms/step - loss: 0.0131 - acc: 0.9957 - val_loss: 0.0218 - val_acc: 0.9931 - lr: 2.0000e-04\n",
      "Epoch 33/50\n",
      "81/81 [==============================] - ETA: 0s - loss: 0.0150 - acc: 0.9961\n",
      "Epoch 33: val_acc did not improve from 0.99653\n",
      "\n",
      "Epoch 33: ReduceLROnPlateau reducing learning rate to 4.0000001899898055e-05.\n",
      "81/81 [==============================] - 1s 16ms/step - loss: 0.0150 - acc: 0.9961 - val_loss: 0.0210 - val_acc: 0.9965 - lr: 2.0000e-04\n",
      "Epoch 34/50\n",
      "81/81 [==============================] - ETA: 0s - loss: 0.0137 - acc: 0.9957\n",
      "Epoch 34: val_acc did not improve from 0.99653\n",
      "81/81 [==============================] - 1s 16ms/step - loss: 0.0137 - acc: 0.9957 - val_loss: 0.0246 - val_acc: 0.9965 - lr: 4.0000e-05\n",
      "Epoch 35/50\n",
      "81/81 [==============================] - ETA: 0s - loss: 0.0125 - acc: 0.9961\n",
      "Epoch 35: val_acc did not improve from 0.99653\n",
      "81/81 [==============================] - 1s 16ms/step - loss: 0.0125 - acc: 0.9961 - val_loss: 0.0256 - val_acc: 0.9931 - lr: 4.0000e-05\n",
      "Epoch 36/50\n",
      "79/81 [============================>.] - ETA: 0s - loss: 0.0102 - acc: 0.9972\n",
      "Epoch 36: val_acc did not improve from 0.99653\n",
      "81/81 [==============================] - 1s 16ms/step - loss: 0.0100 - acc: 0.9973 - val_loss: 0.0248 - val_acc: 0.9965 - lr: 4.0000e-05\n",
      "Epoch 37/50\n",
      "80/81 [============================>.] - ETA: 0s - loss: 0.0124 - acc: 0.9957\n",
      "Epoch 37: val_acc did not improve from 0.99653\n",
      "81/81 [==============================] - 1s 16ms/step - loss: 0.0122 - acc: 0.9957 - val_loss: 0.0225 - val_acc: 0.9965 - lr: 4.0000e-05\n",
      "Epoch 38/50\n",
      "81/81 [==============================] - ETA: 0s - loss: 0.0111 - acc: 0.9973\n",
      "Epoch 38: val_acc did not improve from 0.99653\n",
      "81/81 [==============================] - 1s 16ms/step - loss: 0.0111 - acc: 0.9973 - val_loss: 0.0200 - val_acc: 0.9965 - lr: 4.0000e-05\n",
      "Epoch 39/50\n",
      "80/81 [============================>.] - ETA: 0s - loss: 0.0104 - acc: 0.9973\n",
      "Epoch 39: val_acc did not improve from 0.99653\n",
      "81/81 [==============================] - 1s 16ms/step - loss: 0.0105 - acc: 0.9973 - val_loss: 0.0238 - val_acc: 0.9965 - lr: 4.0000e-05\n",
      "Epoch 40/50\n",
      "80/81 [============================>.] - ETA: 0s - loss: 0.0171 - acc: 0.9965\n",
      "Epoch 40: val_acc did not improve from 0.99653\n",
      "81/81 [==============================] - 1s 16ms/step - loss: 0.0169 - acc: 0.9965 - val_loss: 0.0249 - val_acc: 0.9965 - lr: 4.0000e-05\n",
      "Epoch 41/50\n",
      "80/81 [============================>.] - ETA: 0s - loss: 0.0116 - acc: 0.9961\n",
      "Epoch 41: val_acc did not improve from 0.99653\n",
      "81/81 [==============================] - 1s 16ms/step - loss: 0.0115 - acc: 0.9961 - val_loss: 0.0286 - val_acc: 0.9931 - lr: 4.0000e-05\n",
      "Epoch 42/50\n",
      "81/81 [==============================] - ETA: 0s - loss: 0.0138 - acc: 0.9961\n",
      "Epoch 42: val_acc did not improve from 0.99653\n",
      "81/81 [==============================] - 1s 16ms/step - loss: 0.0138 - acc: 0.9961 - val_loss: 0.0312 - val_acc: 0.9931 - lr: 4.0000e-05\n",
      "Epoch 43/50\n",
      "80/81 [============================>.] - ETA: 0s - loss: 0.0087 - acc: 0.9977\n",
      "Epoch 43: val_acc did not improve from 0.99653\n",
      "\n",
      "Epoch 43: ReduceLROnPlateau reducing learning rate to 1e-05.\n",
      "81/81 [==============================] - 1s 16ms/step - loss: 0.0086 - acc: 0.9977 - val_loss: 0.0297 - val_acc: 0.9965 - lr: 4.0000e-05\n",
      "Epoch 44/50\n",
      "81/81 [==============================] - ETA: 0s - loss: 0.0124 - acc: 0.9969\n",
      "Epoch 44: val_acc did not improve from 0.99653\n",
      "81/81 [==============================] - 1s 16ms/step - loss: 0.0124 - acc: 0.9969 - val_loss: 0.0298 - val_acc: 0.9965 - lr: 1.0000e-05\n",
      "Epoch 45/50\n",
      "79/81 [============================>.] - ETA: 0s - loss: 0.0084 - acc: 0.9976\n",
      "Epoch 45: val_acc did not improve from 0.99653\n",
      "81/81 [==============================] - 1s 16ms/step - loss: 0.0082 - acc: 0.9977 - val_loss: 0.0286 - val_acc: 0.9965 - lr: 1.0000e-05\n",
      "Epoch 46/50\n",
      "81/81 [==============================] - ETA: 0s - loss: 0.0149 - acc: 0.9977\n",
      "Epoch 46: val_acc did not improve from 0.99653\n",
      "81/81 [==============================] - 1s 16ms/step - loss: 0.0149 - acc: 0.9977 - val_loss: 0.0284 - val_acc: 0.9965 - lr: 1.0000e-05\n",
      "Epoch 47/50\n",
      "81/81 [==============================] - ETA: 0s - loss: 0.0117 - acc: 0.9977\n",
      "Epoch 47: val_acc did not improve from 0.99653\n",
      "81/81 [==============================] - 1s 16ms/step - loss: 0.0117 - acc: 0.9977 - val_loss: 0.0287 - val_acc: 0.9965 - lr: 1.0000e-05\n",
      "Epoch 48/50\n",
      "81/81 [==============================] - ETA: 0s - loss: 0.0137 - acc: 0.9957\n",
      "Epoch 48: val_acc did not improve from 0.99653\n",
      "81/81 [==============================] - 1s 16ms/step - loss: 0.0137 - acc: 0.9957 - val_loss: 0.0283 - val_acc: 0.9965 - lr: 1.0000e-05\n",
      "Epoch 49/50\n",
      "80/81 [============================>.] - ETA: 0s - loss: 0.0178 - acc: 0.9965\n",
      "Epoch 49: val_acc did not improve from 0.99653\n",
      "81/81 [==============================] - 1s 16ms/step - loss: 0.0176 - acc: 0.9965 - val_loss: 0.0271 - val_acc: 0.9965 - lr: 1.0000e-05\n",
      "Epoch 50/50\n",
      "81/81 [==============================] - ETA: 0s - loss: 0.0145 - acc: 0.9957\n",
      "Epoch 50: val_acc did not improve from 0.99653\n",
      "81/81 [==============================] - 1s 16ms/step - loss: 0.0145 - acc: 0.9957 - val_loss: 0.0277 - val_acc: 0.9965 - lr: 1.0000e-05\n"
     ]
    },
    {
     "data": {
      "text/plain": [
       "<keras.callbacks.History at 0x10faf7690>"
      ]
     },
     "execution_count": 5,
     "metadata": {},
     "output_type": "execute_result"
    }
   ],
   "source": [
    "start_time = datetime.datetime.now().strftime('%Y_%m_%d_%H_%M_%S')\n",
    "\n",
    "model.fit_generator(\n",
    "\ttrain_generator, epochs=50, validation_data=val_generator,\n",
    " callbacks=[\n",
    "\t ModelCheckpoint('models/%s.h5'%(start_time), monitor='val_acc', save_best_only=True, mode='max', verbose=1),\n",
    "  ReduceLROnPlateau(monitor='val_acc', factor=0.2, patience=10, verbose=1, mode='auto', min_lr=1e-05)\n",
    " ]\n",
    ")"
   ]
  },
  {
   "cell_type": "code",
   "execution_count": 6,
   "metadata": {},
   "outputs": [
    {
     "name": "stdout",
     "output_type": "stream",
     "text": [
      "9/9 [==============================] - 0s 5ms/step\n",
      "test add : 0.9965277777777778\n"
     ]
    },
    {
     "name": "stderr",
     "output_type": "stream",
     "text": [
      "2023-05-28 19:10:18.774470: I tensorflow/core/grappler/optimizers/custom_graph_optimizer_registry.cc:114] Plugin optimizer for device_type GPU is enabled.\n"
     ]
    },
    {
     "data": {
      "text/plain": [
       "<Axes: >"
      ]
     },
     "execution_count": 6,
     "metadata": {},
     "output_type": "execute_result"
    },
    {
     "data": {
      "image/png": "[encoded data removed]",
      "text/plain": [
       "<Figure size 640x480 with 2 Axes>"
      ]
     },
     "metadata": {},
     "output_type": "display_data"
    }
   ],
   "source": [
    "from sklearn.metrics import accuracy_score, confusion_matrix\n",
    "import seaborn as sns\n",
    "\n",
    "model = load_model('models/%s.h5'% (start_time))\n",
    "\n",
    "y_pred = model.predict(x_val/255.)\n",
    "y_pred_logical = (y_pred > 0.5).astype(np.int0)\n",
    "\n",
    "print(\"test add : %s\"%accuracy_score(y_val, y_pred_logical))\n",
    "cm = confusion_matrix(y_val, y_pred_logical)\n",
    "sns.heatmap(cm, annot=True)"
   ]
  },
  {
   "attachments": {},
   "cell_type": "markdown",
   "metadata": {},
   "source": [
    "### 카메라 모듈 화면 표시 & 얼굴인식"
   ]
  },
  {
   "cell_type": "code",
   "execution_count": 1,
   "metadata": {},
   "outputs": [
    {
     "ename": "",
     "evalue": "",
     "output_type": "error",
     "traceback": [
      "\u001b[1;31mCanceled future for execute_request message before replies were done"
     ]
    },
    {
     "ename": "",
     "evalue": "",
     "output_type": "error",
     "traceback": [
      "\u001b[1;31m현재 셀 또는 이전 셀에서 코드를 실행하는 동안 Kernel이 충돌했습니다. 셀의 코드를 검토하여 오류의 가능한 원인을 식별하세요. 자세한 내용을 보려면 <a href='https://aka.ms/vscodeJupyterKernelCrash'> 여기 </a> 를 클릭하세요. 자세한 내용은 Jupyter <a href='command:jupyter.viewOutput'>로그</a>를 참조하세요."
     ]
    }
   ],
   "source": [
    "import cv2, dlib\n",
    "import numpy as np\n",
    "from imutils import face_utils\n",
    "from keras.models import load_model\n",
    "\n",
    "IMG_SIZE = (34, 26)\n",
    "\n",
    "detector = dlib.get_frontal_face_detector()\n",
    "predictor = dlib.shape_predictor('shape_predictor_68_face_landmarks.dat')\n",
    "\n",
    "model = load_model('models/2023_05_28_18_08_53.h5')\n",
    "model.summary()\n",
    "\n",
    "def crop_eye(img, eye_points):\n",
    "    x1, y1 = np.amin(eye_points, axis=0)\n",
    "    x2, y2 = np.amin(eye_points, axis=0)\n",
    "    cx, cy = (x1 + x2) / 2, (y1 + y2) / 2\n",
    "    \n",
    "    w = (x2 -x1) * 1.2\n",
    "    h = w * IMG_SIZE[1] / IMG_SIZE[0]\n",
    "    \n",
    "    margin_x, margin_y = w / 2, h / 2\n",
    "    \n",
    "    min_x, min_y = int(cx - margin_x), int(cy - margin_y)\n",
    "    max_x, max_y = int(cx - margin_x), int(cy + margin_y)\n",
    "    \n",
    "    eye_rect = np.rint([min_x, min_y, max_x, max_y]).astype(np.int0)\n",
    "    eye_img = gray[eye_rect[1]:eye_rect[3], eye_rect[0]:eye_rect[2]]\n",
    "    \n",
    "    return (eye_img, eye_rect)\n",
    "\n",
    "cap = cv2.VideoCapture('http://192.168.0.109:81/stream')\n",
    "\n",
    "while cap.isOpened():\n",
    "    ret, img_ori = cap.read()\n",
    "    \n",
    "    if not ret:\n",
    "        print(\"video road fail\")\n",
    "        break\n",
    "    \n",
    "    img_ori = cv2.resize(img_ori, dsize=(0, 0), fx=0.5, fy=0.5)\n",
    "    \n",
    "    img = img_ori.copy()\n",
    "    gray = cv2.cvtColor(img, cv2.COLOR_BGR2GRAY)\n",
    "    \n",
    "    faces = detector(gray)\n",
    "    \n",
    "    for face in faces:\n",
    "        shapes = predictor(gray, face)\n",
    "        shapes = face_utils.shape_to_np(shapes)\n",
    "\n",
    "        eye_img_l, eye_rect_l = crop_eye(gray, eye_points=shapes[36:42])\n",
    "        eye_img_r, eye_rect_r = crop_eye(gray, eye_points=shapes[42:48])\n",
    "\n",
    "        eye_img_l = cv2.resize(eye_img_l, dsize=IMG_SIZE)\n",
    "        eye_img_r = cv2.resize(eye_img_r, dsize=IMG_SIZE)\n",
    "        eye_img_r = cv2.flip(eye_img_r, flipCode=1)\n",
    "\n",
    "        cv2.imshow('l', eye_img_l)\n",
    "        cv2.imshow('r', eye_img_r)\n",
    "\n",
    "        eye_input_l = eye_img_l.copy().reshape((1, IMG_SIZE[1], IMG_SIZE[0], 1)).astype(np.float32) / 255.\n",
    "        eye_input_r = eye_img_r.copy().reshape((1, IMG_SIZE[1], IMG_SIZE[0], 1)).astype(np.float32) / 255.\n",
    "\n",
    "        pred_l = model.predict(eye_input_l)\n",
    "        pred_r = model.predict(eye_input_r)\n",
    "\n",
    "        # visualize\n",
    "        state_l = 'O %.1f' if pred_l > 0.1 else '- %.1f'\n",
    "        state_r = 'O %.1f' if pred_r > 0.1 else '- %.1f'\n",
    "\n",
    "        state_l = state_l % pred_l\n",
    "        state_r = state_r % pred_r\n",
    "\n",
    "        cv2.rectangle(img, pt1=tuple(eye_rect_l[0:2]), pt2=tuple(eye_rect_l[2:4]), color=(255,255,255), thickness=2)\n",
    "        cv2.rectangle(img, pt1=tuple(eye_rect_r[0:2]), pt2=tuple(eye_rect_r[2:4]), color=(255,255,255), thickness=2)\n",
    "\n",
    "        cv2.putText(img, state_l, tuple(eye_rect_l[0:2]), cv2.FONT_HERSHEY_SIMPLEX, 0.7, (255,255,255), 2)\n",
    "        cv2.putText(img, state_r, tuple(eye_rect_r[0:2]), cv2.FONT_HERSHEY_SIMPLEX, 0.7, (255,255,255), 2)\n",
    "\n",
    "    cv2.imshow('result', img)\n",
    "    if cv2.waitKey(1) == ord('q'):\n",
    "        break"
   ]
  },
  {
   "cell_type": "code",
   "execution_count": 1,
   "metadata": {},
   "outputs": [
    {
     "ename": "",
     "evalue": "",
     "output_type": "error",
     "traceback": [
      "\u001b[1;31mCanceled future for execute_request message before replies were done"
     ]
    },
    {
     "ename": "",
     "evalue": "",
     "output_type": "error",
     "traceback": [
      "\u001b[1;31m현재 셀 또는 이전 셀에서 코드를 실행하는 동안 Kernel이 충돌했습니다. 셀의 코드를 검토하여 오류의 가능한 원인을 식별하세요. 자세한 내용을 보려면 <a href='https://aka.ms/vscodeJupyterKernelCrash'> 여기 </a> 를 클릭하세요. 자세한 내용은 Jupyter <a href='command:jupyter.viewOutput'>로그</a>를 참조하세요."
     ]
    }
   ],
   "source": []
  },
  {
   "cell_type": "code",
   "execution_count": 1,
   "metadata": {},
   "outputs": [
    {
     "ename": "",
     "evalue": "",
     "output_type": "error",
     "traceback": [
      "\u001b[1;31mCanceled future for execute_request message before replies were done"
     ]
    },
    {
     "ename": "",
     "evalue": "",
     "output_type": "error",
     "traceback": [
      "\u001b[1;31m현재 셀 또는 이전 셀에서 코드를 실행하는 동안 Kernel이 충돌했습니다. 셀의 코드를 검토하여 오류의 가능한 원인을 식별하세요. 자세한 내용을 보려면 <a href='https://aka.ms/vscodeJupyterKernelCrash'> 여기 </a> 를 클릭하세요. 자세한 내용은 Jupyter <a href='command:jupyter.viewOutput'>로그</a>를 참조하세요."
     ]
    }
   ],
   "source": [
    "from imutils import face_utils\n",
    "import dlib\n",
    "import cv2\n",
    "import easydict\n",
    "from math import hypot\n",
    "\n",
    "args = easydict.EasyDict({\"shape_predictor\": \"./shape_predictor_68_face_landmarks.dat\"})\n",
    "\n",
    "detector = dlib.get_frontal_face_detector()\n",
    "predictor = dlib.shape_predictor(args[\"shape_predictor\"])\n",
    "\n",
    "video = cv2.VideoCapture('http://192.168.0.109:81/stream')\t#카메라모듈 스트리밍 주소\n",
    "frame_size = (int(video.get(cv2.CAP_PROP_FRAME_WIDTH)), int(video.get(cv2.CAP_PROP_FRAME_HEIGHT)))\n",
    "\n",
    "r_eye_points = [42, 43, 44, 45, 46, 47]\n",
    "l_eye_points = [36, 37, 38, 39, 40, 41]\n",
    "\n",
    "def midpoint(p1, p2):\n",
    "    return int((p1.x + p2.x) / 2), int((p1.y + p2.y) / 2)\n",
    "\n",
    "def get_blinking_ratio(eye_points, facial_landmarks):\n",
    "    left_point = (facial_landmarks.part(eye_points[0]).x, facial_landmarks.part(eye_points[0].y))\n",
    "    right_point = (facial_landmarks.part(eye_points[3]).x, facial_landmarks.part(eye_points[3].y))\n",
    "    center_top = midpoint(facial_landmarks.part(eye_points[1]), facial_landmarks.part(eye_points[2]))\n",
    "    center_bottom = midpoint(facial_landmarks.part(eye_points[5]), facial_landmarks.part(eye_points[4]))\n",
    "\n",
    "    hor_line = cv2.line(frame, left_point, right_point, (0, 255, 0), 2)\n",
    "    ver_line = cv2.line(frame, center_top,center_bottom, (0, 255, 0), 2)\n",
    "\n",
    "    hor_line_length = hypot((left_point[0] - right_point[0]), (left_point[1] -right_point[1]))\n",
    "    ver_line_length = hypot((center_top[0] - center_bottom[0]), (center_top[1] - center_bottom[1]))\n",
    "    ratio = hor_line_length / ver_line_length\n",
    "    return (ratio)\n",
    "\n",
    "while True:\n",
    "    ret, frame = video.read()\n",
    "    if not ret:\n",
    "        print(\"video road fail\")\n",
    "        break\n",
    "    gray = cv2.cvtColor(frame, cv2.COLOR_BGR2GRAY)\n",
    "    \n",
    "    rects = detector(gray, 0)\n",
    "    \n",
    "    if (len(rects) > 0):\n",
    "        text = \"{} face(s) found\".format(len(rects))\n",
    "        cv2.putText(frame, text, (10, 20), cv2.FONT_HERSHEY_SIMPLEX, 0.5, (0, 0, 255), 2)\n",
    "        \n",
    "    for rect in rects:\n",
    "        (bX, bY, bW, bH) = face_utils.rect_to_bb(rect)\n",
    "        cv2.rectangle(frame, (bX, bY), (bX + bW, bY + bH), (0, 255, 0), 1)\n",
    "        \n",
    "        shape = predictor(gray, rect)\n",
    "        shape = face_utils.shape_to_np(shape)\n",
    "        \n",
    "        # for (i, (x, y)) in enumerate(shape):\n",
    "        #     cv2.circle(frame, (x, y), 1, (0, 0, 255), -1)\n",
    "        #     cv2.putText(frame, str(i + 1), (x - 10, y - 10), cv2.FONT_HERSHEY_SIMPLEX, 0.35, (0, 0, 255), 1)\n",
    "\n",
    "        #눈 깜빡인 체크\n",
    "        # left_eye_ratio = get_blinking_ratio(l_eye_points, shape)\n",
    "        # right_eye_ratio = get_blinking_ratio(r_eye_points, shape)\n",
    "        # blinking_ratio = (left_eye_ratio + right_eye_ratio) / 2\n",
    "        # if (blinking_ratio >= 0.6):     ## ratio가 높으면 눈 감음\n",
    "        #     cv2.putText(frame, \"blinking\", (50, 50), cv2.FONT_HERSHEY_SIMPLEX, 2, (255, 0, 0))\n",
    "        #     print(\"blinking\")\n",
    "\n",
    "    cv2.imshow(\"Frame\", frame)\n",
    "    \n",
    "    key = cv2.waitKey(1) & 0xFF\n",
    "    \n",
    "    if (key == ord(\"q\")):\n",
    "        break\n",
    "    \n",
    "    cv2.destroyAllWindows()\n"
   ]
  },
  {
   "cell_type": "code",
   "execution_count": 1,
   "metadata": {},
   "outputs": [],
   "source": [
    "from imutils import face_utils\n",
    "# import dlib\n",
    "import cv2\n",
    "import easydict\n",
    "from math import hypot"
   ]
  },
  {
   "cell_type": "code",
   "execution_count": 1,
   "metadata": {},
   "outputs": [
    {
     "ename": "",
     "evalue": "",
     "output_type": "error",
     "traceback": [
      "\u001b[1;31mCanceled future for execute_request message before replies were done"
     ]
    },
    {
     "ename": "",
     "evalue": "",
     "output_type": "error",
     "traceback": [
      "\u001b[1;31m현재 셀 또는 이전 셀에서 코드를 실행하는 동안 Kernel이 충돌했습니다. 셀의 코드를 검토하여 오류의 가능한 원인을 식별하세요. 자세한 내용을 보려면 <a href='https://aka.ms/vscodeJupyterKernelCrash'> 여기 </a> 를 클릭하세요. 자세한 내용은 Jupyter <a href='command:jupyter.viewOutput'>로그</a>를 참조하세요."
     ]
    }
   ],
   "source": [
    "import dlib"
   ]
  },
  {
   "cell_type": "code",
   "execution_count": null,
   "metadata": {},
   "outputs": [],
   "source": []
  },
  {
   "cell_type": "code",
   "execution_count": null,
   "metadata": {},
   "outputs": [],
   "source": []
  }
 ],
 "metadata": {
  "kernelspec": {
   "display_name": "circuit",
   "language": "python",
   "name": "python3"
  },
  "language_info": {
   "codemirror_mode": {
    "name": "ipython",
    "version": 3
   },
   "file_extension": ".py",
   "mimetype": "text/x-python",
   "name": "python",
   "nbconvert_exporter": "python",
   "pygments_lexer": "ipython3",
   "version": "3.11.3"
  },
  "orig_nbformat": 4
 },
 "nbformat": 4,
 "nbformat_minor": 2
}
