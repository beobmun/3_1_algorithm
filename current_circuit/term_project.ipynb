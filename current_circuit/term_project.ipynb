{
 "cells": [
  {
   "cell_type": "markdown",
   "metadata": {},
   "source": [
    "## openCV를 통해 모니터에 카메라 화면 출력"
   ]
  },
  {
   "cell_type": "code",
   "execution_count": null,
   "metadata": {},
   "outputs": [],
   "source": [
    "import cv2\n",
    "\n",
    "video = cv2.VideoCapture('http://192.168.0.109:81/stream')\n",
    "frame_size = (int(video.get(cv2.CAP_PROP_FRAME_WIDTH)), int(video.get(cv2.CAP_PROP_FRAME_HEIGHT)))\n",
    "\n",
    "while True:\n",
    "    ret, frame = video.read()\n",
    "    if not ret:\n",
    "        break\n",
    "\n",
    "    cv2.imshow('ESP32-CAM', frame)\n",
    "\n",
    "    # Press 'Esc' to stop\n",
    "    key = cv2.waitKey(25)\n",
    "    if key == 27:\n",
    "        break\n",
    "\n",
    "if video.isOpened():\n",
    "    video.release()\n",
    "\n",
    "cv2.destroyAllWindows()"
   ]
  },
  {
   "cell_type": "markdown",
   "metadata": {},
   "source": [
    "## 카메라 모듈 화면 표시 & 얼굴인식"
   ]
  },
  {
   "cell_type": "code",
   "execution_count": null,
   "metadata": {},
   "outputs": [],
   "source": [
    "from imutils.video import VideoStream\n",
    "from imutils import face_utils\n",
    "import argparse\n",
    "import imutils\n",
    "import time\n",
    "import dlib\n",
    "import cv2\n",
    "import easydict\n",
    " \n",
    "# construct the argument parser and parse the arguments\n",
    "# ap = argparse.ArgumentParser()\n",
    "# ap.add_argument(\"-p\", \"--shape-predictor\", required=True,\n",
    "#     help=\"/home/behan/3_1/current_circuit/shape_predictor_68_face_landmarks.dat\")\n",
    "# args = vars(ap.parse_args())\n",
    " \n",
    "args = easydict.EasyDict({\"shape_predictor\": \"./shape_predictor_68_face_landmarks.dat\"})\n",
    " \n",
    "# initialize dlib's face detector (HOG-based) and then create the\n",
    "# facial landmark predictor\n",
    "print(\"[INFO] loading facial landmark predictor...\")\n",
    "detector = dlib.get_frontal_face_detector()\n",
    "predictor = dlib.shape_predictor(args[\"shape_predictor\"])\n",
    " \n",
    "# initialize the video stream and sleep for a bit, allowing the\n",
    "# camera sensor to warm up\n",
    "print(\"[INFO] camera sensor warming up...\")\n",
    "#vs = VideoStream(src=0).start()\n",
    "# vs = VideoStream(usePiCamera=True).start() # Raspberry Pi\n",
    "# time.sleep(2.0)\n",
    " \n",
    "video = cv2.VideoCapture('http://192.168.0.109:81/stream')\n",
    "frame_size = (int(video.get(cv2.CAP_PROP_FRAME_WIDTH)), int(video.get(cv2.CAP_PROP_FRAME_HEIGHT)))\n",
    " \n",
    "# loop over the frames from the video stream\n",
    "while True:\n",
    "    # grab the frame from the threaded video stream, resize it to\n",
    "    # have a maximum width of 400 pixels, and convert it to\n",
    "    # grayscale\n",
    "    # frame = vs.read()\n",
    "    ret, frame = video.read()\n",
    "    if not ret:\n",
    "        print(\"video road fail!!!\")\n",
    "        break\n",
    "    # frame = imutils.resize(frame, width=400)\n",
    "    gray = cv2.cvtColor(frame, cv2.COLOR_BGR2GRAY)\n",
    " \n",
    "    # detect faces in the grayscale frame\n",
    "    rects = detector(gray, 0)\n",
    " \n",
    "    # check to see if a face was detected, and if so, draw the total\n",
    "    # number of faces on the frame\n",
    "    if len(rects) > 0:\n",
    "        text = \"{} face(s) found\".format(len(rects))\n",
    "        cv2.putText(frame, text, (10, 20), cv2.FONT_HERSHEY_SIMPLEX,\n",
    "            0.5, (0, 0, 255), 2)\n",
    " \n",
    "    # loop over the face detections\n",
    "    for rect in rects:\n",
    "        # compute the bounding box of the face and draw it on the\n",
    "        # frame\n",
    "        (bX, bY, bW, bH) = face_utils.rect_to_bb(rect)\n",
    "        cv2.rectangle(frame, (bX, bY), (bX + bW, bY + bH),\n",
    "            (0, 255, 0), 1)\n",
    " \n",
    "        # determine the facial landmarks for the face region, then\n",
    "        # convert the facial landmark (x, y)-coordinates to a NumPy\n",
    "        # array\n",
    "        shape = predictor(gray, rect)\n",
    "        shape = face_utils.shape_to_np(shape)\n",
    " \n",
    "        # loop over the (x, y)-coordinates for the facial landmarks\n",
    "        # and draw each of them\n",
    "        for (i, (x, y)) in enumerate(shape):\n",
    "            cv2.circle(frame, (x, y), 1, (0, 0, 255), -1)\n",
    "            cv2.putText(frame, str(i + 1), (x - 10, y - 10),\n",
    "                cv2.FONT_HERSHEY_SIMPLEX, 0.35, (0, 0, 255), 1)\n",
    " \n",
    "    # show the frame\n",
    "    cv2.imshow(\"Frame\", frame)\n",
    "    key = cv2.waitKey(1) & 0xFF\n",
    " \n",
    "    # if the `q` key was pressed, break from the loop\n",
    "    if key == ord(\"q\"):\n",
    "        break\n",
    "\n",
    "# do a bit of cleanup\n",
    "cv2.destroyAllWindows()\n",
    "# vs.stop()"
   ]
  },
  {
   "cell_type": "code",
   "execution_count": null,
   "metadata": {},
   "outputs": [],
   "source": []
  },
  {
   "cell_type": "markdown",
   "metadata": {},
   "source": [
    "## 아두이노 시리얼 통신 pyserial"
   ]
  },
  {
   "cell_type": "code",
   "execution_count": null,
   "metadata": {},
   "outputs": [],
   "source": [
    "# 파이썬에서 아두이노로 데이터 보내기\n",
    "\n",
    "import serial\n",
    "import time\n",
    "\n",
    "\n",
    "# \"COM3\"부분에 환경에 맞는 포트 입력\n",
    "ser = serial.Serial('/dev/cu.usbmodem2017_2_251', 9600)\n",
    "\n",
    "\n",
    "while True:\n",
    "    if ser.readable():\n",
    "        val = input()\n",
    "\n",
    "        if (val == '1'):\n",
    "            val = val.encode('utf-8') #보내기전 encoding\n",
    "            ser.write(val)\n",
    "            print(\"LED ON\")\n",
    "            time.sleep(0.5)\n",
    "        elif (val == '0'):\n",
    "            val = val.encode('utf-8')\n",
    "            ser.write(val)\n",
    "            print(\"LED OFF\")\n",
    "            time.sleep(0.5)\n",
    "        else:\n",
    "            print(\"end\")\n",
    "            break"
   ]
  },
  {
   "cell_type": "code",
   "execution_count": null,
   "metadata": {},
   "outputs": [],
   "source": [
    "#아두이노에서 파이썬으로 데이터 입력받기\n",
    "\n",
    "import serial\n",
    "import time\n",
    "\n",
    "ser = serial.Serial('/dev/cu.usbmodem2017_2_251', 9600)\n",
    "\n",
    "while True:\n",
    "    if ser.readable():\n",
    "        val = ser.readline()\n",
    "        print(val.decode())\n",
    "    "
   ]
  },
  {
   "attachments": {},
   "cell_type": "markdown",
   "metadata": {},
   "source": [
    "## 실험 4: 휘스톤브릿지 압력센서 아두이노로 연결, 저장, 데이터 시각화"
   ]
  },
  {
   "cell_type": "code",
   "execution_count": null,
   "metadata": {},
   "outputs": [],
   "source": []
  },
  {
   "attachments": {},
   "cell_type": "markdown",
   "metadata": {},
   "source": [
    "### 필요 함수 정의\n",
    "\n",
    "##### cal_resistance(r1, r2, r3, vin, vout) : 휘스톤 브릿지로 측정한 저압을 저항으로 계산\n",
    "        - r1: 휘스톤 브릿지의 R_1\n",
    "        - r2: 휘스톤 브릿지의 R_2\n",
    "        - r3: 휘스톤 브릿지의 R_3\n",
    "        - vin: 휘스톤 브릿지의 V_in\n",
    "        - vout: 휘스톤 브릿지의 V_out(Va - Vb)\n",
    "\n",
    "##### save_csv(v_out, resistance) : v_out과 resistance를 csv파일로 저장\n",
    "        - v_out: 휘스톤브릿지의 v_out을 리스트 타입으로 입력\n",
    "        - resistance: v_out 리스트의 각 값들을 cal_resistance 함수로 계산한 리스트\n",
    "\n",
    "##### draw_plt(file_path) : 저장한 csv 파일을 불러와 matplot으로 그린다.\n",
    "        - file_path: csv 파일이 저장된 주소를 string으로 입력"
   ]
  },
  {
   "cell_type": "code",
   "execution_count": null,
   "metadata": {},
   "outputs": [],
   "source": [
    "import sympy\n",
    "import pandas as pd\n",
    "import matplotlib.pyplot as plt\n",
    "\n",
    "#휘스톤 브릿지로 측정한 전압을 저항으로 변경 함수\n",
    "def cal_resistance(r1,r2,r3,vin,vout):  \n",
    "    x = sympy.symbols('x')\n",
    "    eq = (r3+x)*(r2*vin)-(x*vin)*(r1+r2)-vout*(r1+r2)*(r3+x)\n",
    "    result = sympy.solve(eq)\n",
    "    result = int(result[0]*1000 + 0.5) / 1000\n",
    "    return result\n",
    "\n",
    "#측정 데이터(전압)과 저항으로 계산한 값을 csv 파일로 저장\n",
    "def save_csv(v_out, resistance):\n",
    "    data = {\n",
    "        \"v_out\": v_out,\n",
    "        \"resistance\": resistance\n",
    "    }\n",
    "    df = pd.DataFrame(data)\n",
    "    df.to_csv('output.csv', index=False, encoding='cp949')\n",
    "\n",
    "# 저장한 csv파일을 읽고 matplot으로 그리기\n",
    "def draw_plt(file_path):\n",
    "    read_data = pd.read_csv(file_path)\n",
    "\n",
    "    fig, ax1 = plt.subplots()\n",
    "    line_1 = ax1.plot(read_data[\"v_out\"], color='green', label='voltage')\n",
    "    ax1.set_xlabel(\"pressure\")\n",
    "    ax1.set_ylabel(\"voltage\")\n",
    "\n",
    "    ax2 = plt.twinx()\n",
    "    line_2 = ax2.plot(read_data[\"resistance\"], color='red', label='resistance')\n",
    "    ax2.set_ylabel(\"resistance\")\n",
    "\n",
    "    lines = line_1 + line_2\n",
    "    labels = [l.get_label() for l in lines]\n",
    "    ax1.legend(lines, labels, loc='upper left')\n"
   ]
  },
  {
   "cell_type": "code",
   "execution_count": null,
   "metadata": {},
   "outputs": [],
   "source": [
    "# 실험 4 휘스톤브릿지 전압 측정\n",
    "\n",
    "import serial\n",
    "import time\n",
    "import numpy as np\n",
    "import matplotlib.pyplot as plt\n",
    "import csv\n",
    "\n",
    "ser = serial.Serial('/dev/cu.usbmodem2017_2_251', 9600) #serial 연결 \"/dev/~~~\"는 아두이노 연결된 포트 입력\n",
    "\n",
    "ser.close()\n",
    "ser.open()\n",
    "\n",
    "v_out = []\n",
    "try:            # 아두이노랑 정상통신\n",
    "    while True:\n",
    "        if ser.readable():\n",
    "            read = ser.readline()\n",
    "            val = read[:len(read)-2].decode()       # \\r \\n 제거\n",
    "            print(val)\n",
    "            # with open(\"output.csv\", \"a\") as fp:     # 'w'모드: 덮어쓰기, 'a'모드 : 추가\n",
    "            #     wr = csv.writer(fp, dialect='excel')\n",
    "            #     wr.writerow(val)\n",
    "            v_out.append(val)\n",
    "\n",
    "except:         # 아두이노 종료 or 에러\n",
    "    ser.close()\n",
    "    print(\"serial close.\")\n",
    "    plt.plot(v_out)\n",
    "    plt.show\n",
    "\n"
   ]
  },
  {
   "cell_type": "code",
   "execution_count": 101,
   "metadata": {},
   "outputs": [
    {
     "name": "stdout",
     "output_type": "stream",
     "text": [
      "    v_out    resistance\n",
      "0  0.0000  1.000000e+07\n",
      "1  0.3240  1.440832e+04\n",
      "2  0.4988  9.014021e+03\n",
      "3  0.6555  6.621952e+03\n",
      "4  0.7679  5.507028e+03\n",
      "5  0.8986  4.561117e+03\n"
     ]
    },
    {
     "data": {
      "image/png": "[encoded data removed]",
      "text/plain": [
       "<Figure size 640x480 with 2 Axes>"
      ]
     },
     "metadata": {},
     "output_type": "display_data"
    }
   ],
   "source": [
    "import numpy as np\n",
    "import matplotlib.pyplot as plt\n",
    "import pandas as pd\n",
    "\n",
    "force = [0, 10, 20, 30, 40, 50]\n",
    "v_out = [0, 0.324, 0.4988, 0.6555, 0.7679, 0.8986]\n",
    "resistance = [cal_resistance(10, 100000, 1000, 5, i) for i in v_out]\n",
    "\n",
    "data = {\n",
    "    # \"force\": force,\n",
    "    \"v_out\": v_out,\n",
    "    \"resistance\": resistance\n",
    "}\n",
    "\n",
    "df = pd.DataFrame(data)\n",
    "print(df)\n",
    "df.to_csv('output.csv', index=False, encoding='cp949')\n",
    "\n",
    "\n",
    "fig, ax1 = plt.subplots()\n",
    "line_1 = ax1.plot(v_out, color='green', label='voltage')\n",
    "ax1.set_xlabel(\"pressure\")\n",
    "ax1.set_ylabel(\"voltage\")\n",
    "\n",
    "ax2 = plt.twinx()\n",
    "line_2 = ax2.plot(resistance, color='red', label='resistance')\n",
    "ax2.set_ylabel(\"resistance\")\n",
    "\n",
    "lines = line_1 + line_2\n",
    "labels = [l.get_label() for l in lines]\n",
    "ax1.legend(lines, labels, loc='upper left')\n",
    "\n",
    "plt.show()"
   ]
  },
  {
   "cell_type": "code",
   "execution_count": 107,
   "metadata": {},
   "outputs": [
    {
     "data": {
      "text/plain": [
       "<matplotlib.legend.Legend at 0x14a0f1050>"
      ]
     },
     "execution_count": 107,
     "metadata": {},
     "output_type": "execute_result"
    },
    {
     "data": {
      "image/png": "[encoded data removed]",
      "text/plain": [
       "<Figure size 640x480 with 2 Axes>"
      ]
     },
     "metadata": {},
     "output_type": "display_data"
    }
   ],
   "source": [
    "read_data = pd.read_csv(\"./output.csv\")\n",
    "fig, ax1 = plt.subplots()\n",
    "line_1 = ax1.plot(read_data[\"v_out\"], color='green', label='voltage')\n",
    "ax1.set_xlabel(\"pressure\")\n",
    "ax1.set_ylabel(\"voltage\")\n",
    "\n",
    "ax2 = plt.twinx()\n",
    "line_2 = ax2.plot(read_data[\"resistance\"], color='red', label='resistance')\n",
    "ax2.set_ylabel(\"resistance\")\n",
    "\n",
    "lines = line_1 + line_2\n",
    "labels = [l.get_label() for l in lines]\n",
    "ax1.legend(lines, labels, loc='upper left')"
   ]
  },
  {
   "cell_type": "code",
   "execution_count": null,
   "metadata": {},
   "outputs": [],
   "source": []
  }
 ],
 "metadata": {
  "kernelspec": {
   "display_name": "Python 3 (ipykernel)",
   "language": "python",
   "name": "python3"
  },
  "language_info": {
   "codemirror_mode": {
    "name": "ipython",
    "version": 3
   },
   "file_extension": ".py",
   "mimetype": "text/x-python",
   "name": "python",
   "nbconvert_exporter": "python",
   "pygments_lexer": "ipython3",
   "version": "3.10.9"
  }
 },
 "nbformat": 4,
 "nbformat_minor": 2
}
