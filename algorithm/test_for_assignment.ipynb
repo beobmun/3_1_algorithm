{
 "cells": [
  {
   "cell_type": "markdown",
   "id": "2f492d30",
   "metadata": {},
   "source": [
    "## 1주차 과제\n",
    "### 연속적인 코로나 확진자 수 제일 많은 날 찾기"
   ]
  },
  {
   "cell_type": "code",
   "execution_count": 1,
   "id": "8706fbec",
   "metadata": {},
   "outputs": [],
   "source": [
    "#알고리즘 : 입력받은 문자열을 \"0\"을 기준으로 split 한 뒤 이중 for 문을 이용하여 연속적인 확진자수 덧셈하여 비교\n",
    "\n",
    "def solution(confirmed_case):\n",
    "    answer = 0\n",
    "    splited_case = confirmed_case.split(\"0\")\n",
    "    \n",
    "    for continuous in splited_case:\n",
    "        sum_daily = 0\n",
    "        for daily in continuous:\n",
    "            if ('0' <= daily and '9' >= daily):\n",
    "                sum_daily += ord(daily) - ord('0')\n",
    "            elif ('a' <= daily and 'z' >= daily):\n",
    "                sum_daily += ord(daily) - ord('a') + 10\n",
    "        if (sum_daily > answer):\n",
    "            answer = sum_daily\n",
    "    return answer"
   ]
  },
  {
   "cell_type": "code",
   "execution_count": 2,
   "id": "b117348e",
   "metadata": {},
   "outputs": [
    {
     "name": "stdout",
     "output_type": "stream",
     "text": [
      "0\n",
      "43\n",
      "60\n",
      "98\n",
      "350000\n"
     ]
    }
   ],
   "source": [
    "value = [\"0\", \"01101c30010024052m4a00b0c00504112113\", \"011011511000014101000f2sf001133\", \"00covid0000038050f0f0f00011a121102\"]\n",
    "max = \"z\"*10000\n",
    "for i in value:\n",
    "\tprint(solution(i))\n",
    "print(solution(max))"
   ]
  },
  {
   "cell_type": "markdown",
   "id": "b7fad405",
   "metadata": {},
   "source": [
    "## 2nd week assignment\n",
    "\n",
    "### car number check"
   ]
  },
  {
   "cell_type": "code",
   "execution_count": 113,
   "id": "2b4f931e",
   "metadata": {},
   "outputs": [],
   "source": [
    "#알고리즘 : 입력 문자열애서 필요한 숫자를 슬라이싱하여 저장, 저장된 수를 소수인지 판별, 소수일 경우 몇번째 소수인지 카운팅\n",
    "\n",
    "# def prime_check(num):\n",
    "#     if (num == 2):\n",
    "#         return (True)\n",
    "#     elif (num < 2 or num % 2 == 0):\n",
    "#         return (False)\n",
    "#     for i in range(2, num):\n",
    "#         if (i * i > num):\n",
    "#             break\n",
    "#         if (num % i == 0):\n",
    "#             return (False)\n",
    "#     return (True)\n",
    "\n",
    "# def solution(car_number):\n",
    "#     answer = 1\n",
    "#     pre_num = int(car_number[:3])\n",
    "#     rear_num = int(car_number[-4:-1])\n",
    "#     last_num = int(car_number[-1:])\n",
    "\n",
    "#     if (last_num == 0):\n",
    "#         return (0)\n",
    "    \n",
    "#     chk_num = (pre_num + rear_num) // last_num\n",
    "#     if (((pre_num + rear_num) / last_num) - chk_num >= 0.5):\n",
    "#         chk_num += 1\n",
    "#     if (prime_check(chk_num) == False):\n",
    "#         return (0)\n",
    "#     for i in range(2, chk_num):\n",
    "#         if (prime_check(i)):\n",
    "#             answer += 1\n",
    "\n",
    "#     return (answer)\n",
    "    "
   ]
  },
  {
   "cell_type": "markdown",
   "id": "a9b0b74d",
   "metadata": {},
   "source": [
    "#### 차량 넘버 ver2"
   ]
  },
  {
   "cell_type": "code",
   "execution_count": 61,
   "id": "b2f0b4dc",
   "metadata": {},
   "outputs": [],
   "source": [
    "#알고리즘 : 문자열에서 요구조건에 맞게 숫자 설정, 소수 인지 판단 후 소수일 경우 몇번 쨰 소수인지 카운트\n",
    "\n",
    "def prime_check(num):\n",
    "    if (num == 2):\n",
    "        return (True)\n",
    "    elif (num < 2 or num % 2 == 0):\n",
    "        return (False)\n",
    "    sq_num = int(num ** (1/2)) + 1\n",
    "    for i in range(2, sq_num):\n",
    "        if (num % i == 0):\n",
    "            return (False)\n",
    "    return (True)\n",
    "\n",
    "def solution(car_number):\n",
    "    chk_num = int((((int(car_number[:3]) + int(car_number[-4:-1]))) / int(car_number[-1:])) + 0.5)\n",
    "    if not prime_check(chk_num):\n",
    "        return (0)\n",
    "    answer = 1\n",
    "    for i in range(2, chk_num):\n",
    "        if (prime_check(i)):\n",
    "            answer += 1\n",
    "    return (answer)\n",
    "    "
   ]
  },
  {
   "cell_type": "code",
   "execution_count": 75,
   "id": "9ef54232",
   "metadata": {},
   "outputs": [
    {
     "name": "stdout",
     "output_type": "stream",
     "text": [
      "answer : 9\n",
      "answer : 302\n",
      "answer : 9\n",
      "answer : 0\n"
     ]
    }
   ],
   "source": [
    "value = [\"000가0231\", \"999가9981\", \"102나1079\", \"114더2228\"]\n",
    "\n",
    "for i in value:\n",
    "    print(\"answer :\", solution(i))"
   ]
  },
  {
   "cell_type": "markdown",
   "id": "4494f3d5",
   "metadata": {},
   "source": [
    "### 3week assignmnet"
   ]
  },
  {
   "cell_type": "code",
   "execution_count": 152,
   "id": "c0d7415a",
   "metadata": {},
   "outputs": [],
   "source": [
    "#알고리즘 : N이 100ml 단위인지 체크, N의 단위 조정 후 n에서 내림차순으로 나누어 마실 수 있는지 여부 체크\n",
    "\n",
    "def solution_1(N):\n",
    "    if (N == 0 or N % 100) : return (0)\n",
    "    elif (N == 100) : return (1)\n",
    "    answer = 1\n",
    "    n = N // 100\n",
    "    half_n = (n // 2 + 1) if n % 2 else (n // 2)\n",
    "    for i in range(half_n, 0, -1):\n",
    "        sum_to_i = (i * (i + 1)) // 2\n",
    "        if (sum_to_i < n):\n",
    "            break\n",
    "        elif (sum_to_i == n):\n",
    "            answer += 1\n",
    "            break\n",
    "        drink = 0\n",
    "        for j in range(i, 0, -1):\n",
    "            drink += j\n",
    "            if (drink > n):\n",
    "                break\n",
    "            elif (drink == n):\n",
    "                answer += 1\n",
    "                break\n",
    "    return (answer)\n",
    "            "
   ]
  },
  {
   "cell_type": "code",
   "execution_count": 73,
   "id": "188c383b",
   "metadata": {},
   "outputs": [],
   "source": [
    "##ver 2. \n",
    "def bin_search_des_arr(num, arr):\n",
    "    l= 0\n",
    "    r = len(arr) - 1\n",
    "    if (num > arr[l] or num < arr[r]):\n",
    "        return (False)\n",
    "    while (l <= r):\n",
    "        mid = (l + r) // 2\n",
    "        if (arr[mid] == num):\n",
    "            return (True)\n",
    "        elif (arr[mid] < num):\n",
    "            if (arr[mid - 1] > num): return (False)\n",
    "            r = mid - 1\n",
    "        else: #(arr[mid] > num)\n",
    "            if (arr[mid + 1] < num): return (False)\n",
    "            l = mid + 1\n",
    "    return (False)\n",
    "\n",
    "def solution_2(N):\n",
    "    if (N == 0 or N % 100) : return (0)\n",
    "    elif (N == 100) : return (1)\n",
    "    answer = 1\n",
    "    n = N // 100\n",
    "    half_n = (N // 200 + 1) if N % 200 else (N // 200)\n",
    "    list_half_n = list(i * (i + 1) // 2 for i in range(half_n, 0, -1))\n",
    "    print(\"list_half_n ok \")\n",
    "    print(\"half_n: \", half_n)\n",
    "    # print(list_half_n)\n",
    "    for i in list_half_n:\n",
    "        find_val = i - n\n",
    "        if (find_val < 0): break\n",
    "        if find_val == 0 or bin_search_des_arr(find_val, list_half_n):\n",
    "            answer += 1\n",
    "    return (answer)\n"
   ]
  },
  {
   "cell_type": "code",
   "execution_count": 173,
   "id": "2de86d5c",
   "metadata": {},
   "outputs": [
    {
     "name": "stdout",
     "output_type": "stream",
     "text": [
      "solution1:  9\n"
     ]
    }
   ],
   "source": [
    "print(\"solution1: \", solution(10000000000))\n"
   ]
  },
  {
   "cell_type": "code",
   "execution_count": 88,
   "id": "8c2f3aea",
   "metadata": {},
   "outputs": [
    {
     "name": "stdout",
     "output_type": "stream",
     "text": [
      "list_half_n ok \n",
      "half_n:  8\n",
      "solution2:  4\n"
     ]
    }
   ],
   "source": [
    "print(\"solution2: \", solution_2(1500))"
   ]
  },
  {
   "cell_type": "code",
   "execution_count": 81,
   "id": "5099a611",
   "metadata": {},
   "outputs": [],
   "source": [
    "#ver3. chatGPT\n",
    "\n",
    "def solution_3(N):\n",
    "    if N < 100 or N % 100:\n",
    "        return 0\n",
    "    answer = 0\n",
    "    n = N // 100\n",
    "    for i in range(1, n+1):\n",
    "        remaining_drinks = n - i*(i+1)//2\n",
    "        if remaining_drinks < 0:\n",
    "            break\n",
    "        if remaining_drinks % i == 0:\n",
    "            answer += 1\n",
    "    return answer"
   ]
  },
  {
   "cell_type": "code",
   "execution_count": 156,
   "id": "e3b8e6d8",
   "metadata": {},
   "outputs": [
    {
     "data": {
      "text/plain": [
       "2"
      ]
     },
     "execution_count": 156,
     "metadata": {},
     "output_type": "execute_result"
    }
   ],
   "source": [
    "solution_3(2000)"
   ]
  },
  {
   "cell_type": "code",
   "execution_count": 2,
   "id": "ecfb11da",
   "metadata": {},
   "outputs": [],
   "source": [
    "#알고리즘: N이 100ml 단위가 아닌지 체크 후 단위 조정, for 루프에서 i명이 나눠 마실 수 있는지 확인\n",
    "\n",
    "def solution(N):\n",
    "    if N == 0 or N % 100: return (0)\n",
    "    answer = 1\n",
    "    n = N // 100\n",
    "    for i in range(2, n): # i는 나눠마시는 사람 수\n",
    "        remaining_drink = n - (i * (i + 1) // 2)\n",
    "        if (remaining_drink < 0): break\n",
    "        if (remaining_drink == 0 or remaining_drink % i == 0): # i명이 나눠 마실때 100ml(1)씩 더마시는 경우일때 i만큼 간격이 차이나기 때문에 i로 나눈 나머지가 0이면 위치 이동을 통해 가능\n",
    "            if (remaining_drink == 0):\n",
    "                print(\"0i:\",i, \"명\", 100)\n",
    "            else:\n",
    "                print(\"i:\",i, \"명\",(remaining_drink // i + 1) * 100)\n",
    "            answer += 1 \n",
    "    return (answer)"
   ]
  },
  {
   "cell_type": "code",
   "execution_count": 4,
   "id": "809dfadd",
   "metadata": {},
   "outputs": [
    {
     "name": "stdout",
     "output_type": "stream",
     "text": [
      "i: 5 명 1999999800\n",
      "i: 25 명 399998800\n",
      "i: 125 명 79993800\n",
      "i: 512 명 19505700\n",
      "i: 625 명 15968800\n",
      "i: 2560 명 3778300\n",
      "i: 3125 명 3043800\n",
      "i: 12800 명 141300\n"
     ]
    },
    {
     "data": {
      "text/plain": [
       "9"
      ]
     },
     "execution_count": 4,
     "metadata": {},
     "output_type": "execute_result"
    }
   ],
   "source": [
    "solution(10000000000)"
   ]
  },
  {
   "cell_type": "markdown",
   "id": "8f21eb70",
   "metadata": {},
   "source": [
    "### 4week's assignment\n"
   ]
  },
  {
   "cell_type": "code",
   "execution_count": 13,
   "id": "ad897542",
   "metadata": {},
   "outputs": [],
   "source": [
    "#알고리즘: 첫번쨰 for 문 - 뒷사람과의 등급비교, 두번째 for 문 - 앞사람과의 등급비교\n",
    "\n",
    "def solution(rating):\n",
    "    len_rating = len(rating)\n",
    "    if not (len_rating): return (0)\n",
    "    elif (len_rating == 1): return (1)\n",
    "    candy_list = [1] * len_rating\n",
    "    if (rating[0] > rating[1]):\n",
    "        candy_list[0] += 1\n",
    "    for i in range(1, len_rating - 1):\n",
    "        if (rating[i] > rating[i - 1]):\n",
    "            candy_list[i] = candy_list[i - 1] + 1\n",
    "    if (rating[-1] > rating[-2]):\n",
    "        candy_list[-1] = candy_list[-2] + 1\n",
    "    for j in range(len_rating - 2, 0, -1):\n",
    "        if (rating[j] > rating[j + 1] and candy_list[j] < candy_list[j + 1] + 1):\n",
    "            candy_list[j] = candy_list[j + 1] + 1\n",
    "    print(candy_list)\n",
    "    return (sum(candy_list))"
   ]
  },
  {
   "cell_type": "code",
   "execution_count": 16,
   "id": "77d3c689",
   "metadata": {},
   "outputs": [
    {
     "name": "stdout",
     "output_type": "stream",
     "text": [
      "[1, 1, 1, 1, 1, 1]\n",
      "6\n",
      "1\n",
      "[1, 2, 1]\n",
      "4\n",
      "[2, 1, 2, 3, 1]\n",
      "9\n",
      "[2, 1, 2, 4, 3, 2, 1]\n",
      "15\n"
     ]
    }
   ],
   "source": [
    "print(solution([1,1,1,1,1,1]))\n",
    "print(solution([0]))\n",
    "print(solution([1,2,2]))\n",
    "print(solution([1,0,1,2,1]))\n",
    "print(solution([1,0,2,6,5,2,1]))"
   ]
  },
  {
   "cell_type": "markdown",
   "id": "0d477509",
   "metadata": {},
   "source": [
    "### 5th week's assignment"
   ]
  },
  {
   "cell_type": "code",
   "execution_count": 1,
   "id": "6e96fe8f",
   "metadata": {},
   "outputs": [],
   "source": [
    "#알고리즘: front 모양을 side 길이만큼 확장 후 side 와 top 모양에 없는 건 비우기\n",
    "\n",
    "def impossible_case(front, side, top):\n",
    "    if not len(front) or not len(side):\n",
    "        return (True)\n",
    "    if (len(top)):\n",
    "        for t in top:\n",
    "            if not (type(t) == list) or not (len(t)):\n",
    "                return (True)\n",
    "    else:\n",
    "        return (True)\n",
    "    if not (max(front) == max(side)):   # 블럭의 높이 수 체크\n",
    "        return (True)\n",
    "    elif not (len(front) == len(top)):  # front 폭과 top 가로폭 체크\n",
    "        return (True)\n",
    "    max_top = max(max(i) for i in top)\n",
    "    if not (max_top == len(side)):      # side 폭과 top_max(=위에서 봤을 때 뒤로 제일 많이 나간 곳) 체크\n",
    "        return (True)\n",
    "    return (False)\n",
    "\n",
    "def solution(front, side, top):\n",
    "    if (impossible_case(front, side, top)):\n",
    "        return (0)\n",
    "    stacked_block = []\n",
    "    for _ in range(0, len(side)):\n",
    "        stacked_block += [list(front)]\n",
    "\n",
    "    for i in range(0, len(stacked_block)):\n",
    "        row = stacked_block[i]\n",
    "        if (max(row) > side[i]):\n",
    "            for col in range(0, len(front)):\n",
    "                if (row[col] > side[i]):\n",
    "                    row[col] = side[i]\n",
    "\n",
    "    for col in range(0, len(top)):\n",
    "        col_min = min(top[col]) - 1\n",
    "        col_max = max(top[col]) - 1\n",
    "        for row in range(0, len(stacked_block)):\n",
    "            if (row < col_min or row > col_max or not row + 1 in top[col]):\n",
    "                stacked_block[row][col] = 0\n",
    "    \n",
    "    answer = 0\n",
    "    for r_block in stacked_block:\n",
    "        answer += sum(r_block)\n",
    "    print(stacked_block)\n",
    "    return (answer)\n",
    "        "
   ]
  },
  {
   "cell_type": "code",
   "execution_count": 2,
   "id": "5f1d3192",
   "metadata": {},
   "outputs": [
    {
     "name": "stdout",
     "output_type": "stream",
     "text": [
      "[[1, 2, 0], [0, 2, 1]]\n",
      "6\n",
      "[[1, 2, 0], [0, 2, 2]]\n",
      "7\n",
      "[[0, 2], [2, 2], [1, 0]]\n",
      "7\n",
      "0\n",
      "[[1, 2, 3, 4, 5], [0, 2, 3, 4, 4], [0, 0, 3, 3, 3], [0, 0, 0, 2, 2], [0, 0, 0, 0, 1]]\n",
      "42\n",
      "[[1, 2, 3, 4, 5], [1, 2, 3, 4, 0], [1, 2, 3, 0, 0], [1, 2, 0, 0, 0], [1, 0, 0, 0, 0]]\n",
      "35\n",
      "[[3, 3, 3], [3, 0, 3], [3, 3, 3]]\n",
      "24\n",
      "[[1, 1, 1, 1, 1], [1, 0, 1, 0, 1], [1, 1, 1, 1, 1], [1, 0, 1, 0, 1], [1, 1, 1, 1, 1]]\n",
      "21\n"
     ]
    }
   ],
   "source": [
    "print(solution([1,2,1],[2,2],[[1], [1,2], [2]]))\n",
    "print(solution([1,2,2],[2,2],[[1], [1,2], [2]]))\n",
    "print(solution([2,2],[2,2,1],[[2,3], [1,2]]))\n",
    "print(solution([1,2,2,2], [3,3],[[1],[1],[1,2],[2]]))\n",
    "print(solution([1,2,3,4,5], [5,4,3,2,1], [[1],[1,2],[1,2,3],[1,2,3,4],[1,2,3,4,5]]))\n",
    "print(solution([1,2,3,4,5], [5,4,3,2,1], [[1,2,3,4,5], [1,2,3,4],[1,2,3],[1,2],[1]]))\n",
    "print(solution([3,3,3],[3,3,3],[[1,2,3],[1,3,],[1,2,3]]))\n",
    "print(solution([1,1,1,1,1],[1,1,1,1,1],[[1,2,3,4,5],[1,3,5],[1,2,3,4,5],[1,3,5],[1,2,3,4,5]]))"
   ]
  },
  {
   "cell_type": "markdown",
   "id": "d5adcca7",
   "metadata": {},
   "source": [
    "### 6th assignmnet"
   ]
  },
  {
   "cell_type": "code",
   "execution_count": 135,
   "id": "62791a8e",
   "metadata": {},
   "outputs": [],
   "source": [
    "#알고리즘: dna를 전사 후 1~6 번째 오픈리딩프레임에서 M ~ _ 사이 최대 길이들을 비교\n",
    "\n",
    "def make_triplet_code():\n",
    "    first_base = second_base = third_base = ['U', 'C', 'A', 'G']\n",
    "    code = []\n",
    "    for f in first_base:\n",
    "        for s in second_base:\n",
    "            for t in third_base:\n",
    "                code.append(f + s + t)\n",
    "                \n",
    "    triplet_code = {'_': []}\n",
    "    for i in range(ord('A'), ord('Z') + 1):\n",
    "        triplet_code[chr(i)] = []\n",
    "    for c in range(1, len(code) + 1):\n",
    "        if (1 <= c <= 2):\n",
    "            triplet_code['F'].append(code[c - 1])\n",
    "        elif (3 <= c <= 4) or (17 <= c <= 20):\n",
    "            triplet_code['L'].append(code[c - 1])\n",
    "        elif (5 <= c <= 8) or (45 <= c <= 46):\n",
    "            triplet_code['S'].append(code[c - 1])\n",
    "        elif (9 <= c <= 10):\n",
    "            triplet_code['Y'].append(code[c - 1])\n",
    "        elif (13 <= c <= 14):\n",
    "            triplet_code['C'].append(code[c - 1])\n",
    "        elif (16 == c):\n",
    "            triplet_code['W'].append(code[c - 1])\n",
    "        elif (21 <= c <= 24):\n",
    "            triplet_code['P'].append(code[c - 1])\n",
    "        elif (25 <= c <= 26):\n",
    "            triplet_code['H'].append(code[c - 1])\n",
    "        elif (27 <= c <= 28):\n",
    "            triplet_code['Q'].append(code[c - 1])\n",
    "        elif (29 <= c <= 32) or (47 <= c <= 48):\n",
    "            triplet_code['R'].append(code[c - 1])\n",
    "        elif (33 <= c <= 35):\n",
    "            triplet_code['I'].append(code[c - 1])\n",
    "        elif (c == 36):\n",
    "            triplet_code['M'].append(code[c - 1])\n",
    "        elif (37 <= c <= 40):\n",
    "            triplet_code['T'].append(code[c - 1])\n",
    "        elif (41 <= c <= 42):\n",
    "            triplet_code['N'].append(code[c - 1])\n",
    "        elif (43 <= c <= 44):\n",
    "            triplet_code['K'].append(code[c - 1])\n",
    "        elif (49 <= c <= 52):\n",
    "            triplet_code['V'].append(code[c - 1])\n",
    "        elif (53 <= c <= 56):\n",
    "            triplet_code['A'].append(code[c - 1])\n",
    "        elif (57 <= c <= 58):\n",
    "            triplet_code['D'].append(code[c - 1])\n",
    "        elif (59 <= c <= 60):\n",
    "            triplet_code['E'].append(code[c - 1])\n",
    "        elif (61 <= c <= 64):\n",
    "            triplet_code['G'].append(code[c - 1])\n",
    "        else:\n",
    "            triplet_code['_'].append(code[c - 1])\n",
    "    delete_key = []\n",
    "    for key, value in triplet_code.items():\n",
    "        if not (len(value)):\n",
    "            delete_key.append(key)\n",
    "    for k in delete_key:\n",
    "        del triplet_code[k]\n",
    "\n",
    "    return (triplet_code)\n",
    "\n",
    "def transcription(dna_seq):\n",
    "    rna = \"\"\n",
    "    for c in dna_seq:\n",
    "        if (c == \"T\"):\n",
    "            rna += \"A\"\n",
    "        elif (c == \"A\"):\n",
    "            rna += \"U\"\n",
    "        elif (c == \"G\"):\n",
    "            rna += \"C\"\n",
    "        elif (c == \"C\"):\n",
    "            rna += \"G\"\n",
    "        else:               # dna_seq에 T A G C 외의 것이 있으면 예외 처리\n",
    "            return (\"\")\n",
    "    return (rna[::-1])\n",
    "\n",
    "def open_reading_frame(rna, triplet_code, start):\n",
    "    amino_acid = \"\"\n",
    "    start_codon = False\n",
    "    stop_codon = False\n",
    "    for i in range(start, len(rna), 3):\n",
    "        code = rna[i: i + 3]\n",
    "        for key, val in triplet_code.items():\n",
    "            if (code in val):\n",
    "                amino_acid += key\n",
    "                if key == 'M': \n",
    "                    start_codon = True\n",
    "                elif key == '_': \n",
    "                    if (start_codon): stop_codon = True\n",
    "                break\n",
    "    if (start_codon and stop_codon):\n",
    "        return (amino_acid)\n",
    "    else:                               # amino_acid 에 M~~~_가 없으면 예외처리\n",
    "        return \"\"\n",
    "\n",
    "def protein_len(amino_acid):\n",
    "    protein_len = -1\n",
    "    s = 0\n",
    "\n",
    "    while (s < len(amino_acid)):\n",
    "        if (amino_acid[s] == 'M'):\n",
    "            for e in range(s + 1, len(amino_acid)):\n",
    "                if (amino_acid[e] == '_'):\n",
    "                    if (protein_len < e - s):\n",
    "                        protein_len = e - s\n",
    "                    s = e\n",
    "                    break\n",
    "        s += 1\n",
    "    return (protein_len)\n",
    "\n",
    "def solution(dna_seq):\n",
    "    triplet_code = make_triplet_code()\n",
    "    rna = transcription(dna_seq.upper())\n",
    "    answer = -1\n",
    "    if not (len(rna)):\n",
    "        return (answer)\n",
    "\n",
    "    for i in range(0, 6):\n",
    "        amino_acid = open_reading_frame(rna, triplet_code, i)\n",
    "        if not (len(amino_acid)): continue\n",
    "        max_len = protein_len(amino_acid)\n",
    "        if (answer < max_len):\n",
    "            answer = max_len\n",
    "    \n",
    "    return (answer)"
   ]
  },
  {
   "cell_type": "code",
   "execution_count": 136,
   "id": "46667129",
   "metadata": {},
   "outputs": [
    {
     "name": "stdout",
     "output_type": "stream",
     "text": [
      "3\n",
      "3\n",
      "-1\n"
     ]
    }
   ],
   "source": [
    "print(solution(\"TGGTTAAGCTTTCATTCACATTGA\"))\n",
    "# print(solution(\"TGGTTAAGCTTTCATTCACATTGACATTTA\"))\n",
    "print(solution(\"tggttaagctttcattcacattga\"))\n",
    "# print(solution(\"CCTCACTTTTGATTCATCATT\"))\n",
    "# print(solution(\"TTATTGCAATTGG\"))\n",
    "# print(solution(\"\"))\n",
    "# print(solution(\"ABCD\"))\n",
    "# print(solution(\"abcd\"))\n",
    "# print(solution(\"TTGTT\"))\n",
    "print(solution(\"CATCATCATCATCATCATCATCATCATCATCATCATCATCATCATCATCATCATCATCATCATTTA\"))"
   ]
  },
  {
   "cell_type": "code",
   "execution_count": null,
   "id": "4270b036",
   "metadata": {},
   "outputs": [],
   "source": []
  }
 ],
 "metadata": {
  "kernelspec": {
   "display_name": "Python 3 (ipykernel)",
   "language": "python",
   "name": "python3"
  },
  "language_info": {
   "codemirror_mode": {
    "name": "ipython",
    "version": 3
   },
   "file_extension": ".py",
   "mimetype": "text/x-python",
   "name": "python",
   "nbconvert_exporter": "python",
   "pygments_lexer": "ipython3",
   "version": "3.10.9"
  },
  "vscode": {
   "interpreter": {
    "hash": "aee8b7b246df8f9039afb4144a1f6fd8d2ca17a180786b69acc140d282b71a49"
   }
  }
 },
 "nbformat": 4,
 "nbformat_minor": 5
}
