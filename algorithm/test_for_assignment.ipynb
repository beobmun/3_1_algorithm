{
 "cells": [
  {
   "cell_type": "markdown",
   "id": "2f492d30",
   "metadata": {},
   "source": [
    "## 1주차 과제\n",
    "### 연속적인 코로나 확진자 수 제일 많은 날 찾기"
   ]
  },
  {
   "cell_type": "code",
   "execution_count": 1,
   "id": "8706fbec",
   "metadata": {},
   "outputs": [],
   "source": [
    "#알고리즘 : 입력받은 문자열을 \"0\"을 기준으로 split 한 뒤 이중 for 문을 이용하여 연속적인 확진자수 덧셈하여 비교\n",
    "\n",
    "def solution(confirmed_case):\n",
    "    answer = 0\n",
    "    splited_case = confirmed_case.split(\"0\")\n",
    "    \n",
    "    for continuous in splited_case:\n",
    "        sum_daily = 0\n",
    "        for daily in continuous:\n",
    "            if ('0' <= daily and '9' >= daily):\n",
    "                sum_daily += ord(daily) - ord('0')\n",
    "            elif ('a' <= daily and 'z' >= daily):\n",
    "                sum_daily += ord(daily) - ord('a') + 10\n",
    "        if (sum_daily > answer):\n",
    "            answer = sum_daily\n",
    "    return answer"
   ]
  },
  {
   "cell_type": "code",
   "execution_count": 2,
   "id": "b117348e",
   "metadata": {},
   "outputs": [
    {
     "name": "stdout",
     "output_type": "stream",
     "text": [
      "0\n",
      "43\n",
      "60\n",
      "98\n",
      "350000\n"
     ]
    }
   ],
   "source": [
    "value = [\"0\", \"01101c30010024052m4a00b0c00504112113\", \"011011511000014101000f2sf001133\", \"00covid0000038050f0f0f00011a121102\"]\n",
    "max = \"z\"*10000\n",
    "for i in value:\n",
    "\tprint(solution(i))\n",
    "print(solution(max))"
   ]
  },
  {
   "cell_type": "markdown",
   "id": "b7fad405",
   "metadata": {},
   "source": [
    "## 2nd week assignment\n",
    "\n",
    "### car number check"
   ]
  },
  {
   "cell_type": "code",
   "execution_count": 113,
   "id": "2b4f931e",
   "metadata": {},
   "outputs": [],
   "source": [
    "#알고리즘 : 입력 문자열애서 필요한 숫자를 슬라이싱하여 저장, 저장된 수를 소수인지 판별, 소수일 경우 몇번째 소수인지 카운팅\n",
    "\n",
    "# def prime_check(num):\n",
    "#     if (num == 2):\n",
    "#         return (True)\n",
    "#     elif (num < 2 or num % 2 == 0):\n",
    "#         return (False)\n",
    "#     for i in range(2, num):\n",
    "#         if (i * i > num):\n",
    "#             break\n",
    "#         if (num % i == 0):\n",
    "#             return (False)\n",
    "#     return (True)\n",
    "\n",
    "# def solution(car_number):\n",
    "#     answer = 1\n",
    "#     pre_num = int(car_number[:3])\n",
    "#     rear_num = int(car_number[-4:-1])\n",
    "#     last_num = int(car_number[-1:])\n",
    "\n",
    "#     if (last_num == 0):\n",
    "#         return (0)\n",
    "    \n",
    "#     chk_num = (pre_num + rear_num) // last_num\n",
    "#     if (((pre_num + rear_num) / last_num) - chk_num >= 0.5):\n",
    "#         chk_num += 1\n",
    "#     if (prime_check(chk_num) == False):\n",
    "#         return (0)\n",
    "#     for i in range(2, chk_num):\n",
    "#         if (prime_check(i)):\n",
    "#             answer += 1\n",
    "\n",
    "#     return (answer)\n",
    "    "
   ]
  },
  {
   "cell_type": "markdown",
   "id": "a9b0b74d",
   "metadata": {},
   "source": [
    "#### 차량 넘버 ver2"
   ]
  },
  {
   "cell_type": "code",
   "execution_count": null,
   "id": "b2f0b4dc",
   "metadata": {},
   "outputs": [],
   "source": [
    "#알고리즘 : 문자열에서 요구조건에 맞게 숫자 설정, 소수 인지 판단 후 소수일 경우 몇번 쨰 소수인지 카운트\n",
    "\n",
    "def prime_check(num):\n",
    "    if (num == 2):\n",
    "        return (True)\n",
    "    elif (num < 2 or num % 2 == 0):\n",
    "        return (False)\n",
    "    sq_num = int(num ** (1/2)) + 1\n",
    "    for i in range(2, sq_num):\n",
    "        if (num % i == 0):\n",
    "            return (False)\n",
    "    return (True)\n",
    "\n",
    "def solution(car_number):\n",
    "    chk_num = int((((int(car_number[:3]) + int(car_number[-4:-1]))) / int(car_number[-1:])) + 0.5)\n",
    "    if not prime_check(chk_num):\n",
    "        return (0)\n",
    "    answer = 1\n",
    "    for i in range(2, chk_num):\n",
    "        if (prime_check(i)):\n",
    "            answer += 1\n",
    "    return (answer)\n",
    "    "
   ]
  },
  {
   "cell_type": "code",
   "execution_count": null,
   "id": "9ef54232",
   "metadata": {},
   "outputs": [],
   "source": [
    "value = [\"000가0051\", \"999가9981\", \"102나1079\", \"114더2228\"]\n",
    "\n",
    "for i in value:\n",
    "    print(\"answer :\", solution(i))"
   ]
  },
  {
   "cell_type": "code",
   "execution_count": null,
   "id": "1b0ead15",
   "metadata": {},
   "outputs": [],
   "source": []
  }
 ],
 "metadata": {
  "kernelspec": {
   "display_name": "Python 3 (ipykernel)",
   "language": "python",
   "name": "python3"
  },
  "language_info": {
   "codemirror_mode": {
    "name": "ipython",
    "version": 3
   },
   "file_extension": ".py",
   "mimetype": "text/x-python",
   "name": "python",
   "nbconvert_exporter": "python",
   "pygments_lexer": "ipython3",
   "version": "3.10.9"
  }
 },
 "nbformat": 4,
 "nbformat_minor": 5
}
