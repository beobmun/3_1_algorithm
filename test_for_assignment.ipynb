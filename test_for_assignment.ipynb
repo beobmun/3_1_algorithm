{
 "cells": [
  {
   "cell_type": "code",
   "execution_count": 3,
   "id": "8706fbec",
   "metadata": {},
   "outputs": [],
   "source": [
    "#알고리즘 : \n",
    "\n",
    "def solution(confirmed_case):\n",
    "    print(confirmed_case)\n"
   ]
  },
  {
   "cell_type": "code",
   "execution_count": 4,
   "id": "b117348e",
   "metadata": {},
   "outputs": [
    {
     "name": "stdout",
     "output_type": "stream",
     "text": [
      "Aa\n"
     ]
    }
   ],
   "source": [
    "solution(\"Aa\")"
   ]
  },
  {
   "cell_type": "code",
   "execution_count": null,
   "id": "83ef4a5b",
   "metadata": {},
   "outputs": [],
   "source": []
  }
 ],
 "metadata": {
  "kernelspec": {
   "display_name": "behan",
   "language": "python",
   "name": "behan"
  },
  "language_info": {
   "codemirror_mode": {
    "name": "ipython",
    "version": 3
   },
   "file_extension": ".py",
   "mimetype": "text/x-python",
   "name": "python",
   "nbconvert_exporter": "python",
   "pygments_lexer": "ipython3",
   "version": "3.10.9"
  }
 },
 "nbformat": 4,
 "nbformat_minor": 5
}
