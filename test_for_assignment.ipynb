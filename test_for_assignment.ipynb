{
 "cells": [
  {
   "cell_type": "markdown",
   "id": "2f492d30",
   "metadata": {},
   "source": [
    "## 1주차 과제\n",
    "### 연속적인 코로나 확진자 수 제일 많은 날 찾기"
   ]
  },
  {
   "cell_type": "code",
   "execution_count": 1,
   "id": "8706fbec",
   "metadata": {},
   "outputs": [],
   "source": [
    "#알고리즘 : 입력받은 문자열을 \"0\"을 기준으로 split 한 뒤 이중 for 문을 이용하여 연속적인 확진자수 덧셈하여 비교\n",
    "\n",
    "def solution(confirmed_case):\n",
    "    answer = 0\n",
    "    splited_case = confirmed_case.split(\"0\")\n",
    "    \n",
    "    for continuous in splited_case:\n",
    "        sum_daily = 0\n",
    "        for daily in continuous:\n",
    "            if ('0' <= daily and '9' >= daily):\n",
    "                sum_daily += ord(daily) - ord('0')\n",
    "            elif ('a' <= daily and 'z' >= daily):\n",
    "                sum_daily += ord(daily) - ord('a') + 10\n",
    "        if (sum_daily > answer):\n",
    "            answer = sum_daily\n",
    "    return answer"
   ]
  },
  {
   "cell_type": "code",
   "execution_count": 2,
   "id": "b117348e",
   "metadata": {},
   "outputs": [
    {
     "name": "stdout",
     "output_type": "stream",
     "text": [
      "0\n",
      "43\n",
      "60\n",
      "98\n",
      "350000\n"
     ]
    }
   ],
   "source": [
    "value = [\"0\", \"01101c30010024052m4a00b0c00504112113\", \"011011511000014101000f2sf001133\", \"00covid0000038050f0f0f00011a121102\"]\n",
    "max = \"z\"*10000\n",
    "for i in value:\n",
    "\tprint(solution(i))\n",
    "print(solution(max))"
   ]
  },
  {
   "cell_type": "code",
   "execution_count": null,
   "id": "83ef4a5b",
   "metadata": {},
   "outputs": [],
   "source": []
  }
 ],
 "metadata": {
  "kernelspec": {
   "display_name": "behan",
   "language": "python",
   "name": "behan"
  },
  "language_info": {
   "codemirror_mode": {
    "name": "ipython",
    "version": 3
   },
   "file_extension": ".py",
   "mimetype": "text/x-python",
   "name": "python",
   "nbconvert_exporter": "python",
   "pygments_lexer": "ipython3",
   "version": "3.10.9"
  }
 },
 "nbformat": 4,
 "nbformat_minor": 5
}
